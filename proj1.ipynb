{
 "cells": [
  {
   "cell_type": "code",
   "execution_count": 491,
   "metadata": {
    "deletable": false,
    "editable": false
   },
   "outputs": [],
   "source": [
    "# Initialize Otter\n",
    "import otter\n",
    "grader = otter.Notebook(\"proj1.ipynb\")"
   ]
  },
  {
   "cell_type": "markdown",
   "metadata": {},
   "source": [
    "# Project 1 - SQL\n",
    "## Due Date: Wednesday, February 19, 5:00pm\n",
    "\n",
    "In this project, we will be working with SQL on the IMDb database.\n",
    "\n",
    "## Objectives\n",
    "\n",
    "- Explore and extract relevant information from database with SQL functions\n",
    "- Perform data cleaning and transformation using string functions and regex\n",
    "- Use the cleaned data to run insightful analysis using joins and aggregations functions\n",
    "\n",
    "**Note:** If at any point during the project, the internal state of the database or its tables have been modified in an undesirable way (i.e. a modification not resulting from the instructions of a question), restart your kernel, clear output, and simply re-run the notebook as normal. This will shutdown your current connection to the database, which will prevent the issue of multiple connections to the database at any given point. When re-running the notebook, you will create a fresh database based on the provided Postgres dump.\n",
    "\n",
    "If you face slow kernel times or are unable to open your notebook, restart your server by going to File -> Hub Control Panel -> Stop My Server and then clicking Start My Server."
   ]
  },
  {
   "cell_type": "markdown",
   "metadata": {},
   "source": [
    "## Logistics & Scoring Breakdown\n",
    "\n",
    "Please read the submission instructions carefully and double check that your submission is not throwing any errors. Please ensure that public tests pass upon submission. It is your responsibility to wait until the autograder finishes running. We will not be accepting regrade requests for submission issues.\n",
    "\n",
    "Each coding question has **both public tests and hidden tests**. Roughly 50% of your coding grade will be made up of your score on the public tests released to you, while the remaining 50% will be made up of unreleased hidden tests. **Free-response questions (marked 'm' in the table below) are manually graded.**\n",
    "\n",
    "This is an **individual project**. However, you’re welcome to collaborate with any other student in the class as long as it’s within the academic honesty guidelines.\n",
    "|Question|Points|\n",
    "|---|---|\n",
    "|0|1|\n",
    "|1a|1|\n",
    "|1b|2|\n",
    "|1c|1|\n",
    "|1d|1|\n",
    "|2a|1|\n",
    "|2b|3|\n",
    "|2c|3|\n",
    "|3a|2|\n",
    "|3b|2|\n",
    "|3c|2|\n",
    "|3d|m: 1|\n",
    "|4a|2|\n",
    "|4b|m: 1|\n",
    "|5|2|\n",
    "|**Total**|25|\n",
    "\n",
    "**Summary:** 25 points (autograded: 23, manual: 2) "
   ]
  },
  {
   "cell_type": "code",
   "execution_count": 492,
   "metadata": {},
   "outputs": [],
   "source": [
    "# Run this cell to set up imports\n",
    "import numpy as np\n",
    "import pandas as pd"
   ]
  },
  {
   "cell_type": "markdown",
   "metadata": {},
   "source": [
    "<hr style=\"border: 5px solid #003262;\" />\n",
    "<hr style=\"border: 1px solid #fdb515;\" />"
   ]
  },
  {
   "cell_type": "markdown",
   "metadata": {},
   "source": [
    "# Before You Start: Assignment Tips\n",
    "\n",
    "\n",
    "<p><b>Please Read!</b> In this project we will assume you have attended lecture and seen how to connect to a Postgres server via two ways: JupySQL in Jupyter Notebook, and the psql command-line program (CLI).</p>\n",
    "\n",
    "    \n",
    "We have written up these instructions for you in the <a href=\"https://data101.org/fa24/assignment-tips/\">Fall 2024 Assignment Tips</a>—a handy resource that has many other tips that we **highly recommend** taking a moment to read through to save you time and improve your workflow:\n",
    "\n",
    "* PostgreSQL documentation\n",
    "* JupySQL and magic commands in Jupyter\n",
    "* JupyterHub keyboard shortcuts\n",
    "* psql and common meta-commands\n",
    "* Debugging:\n",
    "    * Where to create new cells to play nice with the autograder\n",
    "    * Opening/closing connections, deleting databases if all else fails\n",
    "* Local installation (not supported by staff officially, but for your reference)\n",
    "\n",
    "In Jupyter Notebooks, a [cell 'magic' command](https://ipython.readthedocs.io/en/stable/interactive/magics.html) is a special command that is preceded by two percentage signs (%%). Cell magics operate on entire cells and are used to change the behavior of the entire cell. They are not part of the Python language itself but are specific to the Jupyter environment. They help us do a lot of cool things, like run SQL commands directly within Jupyter! For some questions with cell magic, we will be saving the literal query string with [query snippets](https://jupysql.ploomber.io/en/latest/api/magic-snippets.html) using `--save`, as illustrated below:\n",
    "\n",
    "```\n",
    "%%sql --save query_result << \n",
    "SELECT * FROM table ...\n",
    "```"
   ]
  },
  {
   "cell_type": "markdown",
   "metadata": {},
   "source": [
    "# Database Setup\n",
    "We are going to be using the `JupySQL` library to connect our notebook to a PostgreSQL database server on your JupyterHub account. Running the next cell will do so; you should not see any error messages after it executes."
   ]
  },
  {
   "cell_type": "code",
   "execution_count": 493,
   "metadata": {},
   "outputs": [],
   "source": [
    "# The first time you are running this cell, you may need to run the following line as: %load_ext sql \n",
    "%reload_ext sql"
   ]
  },
  {
   "cell_type": "markdown",
   "metadata": {},
   "source": [
    "In the next cell, we will unzip the data. This only needs to be done once."
   ]
  },
  {
   "cell_type": "code",
   "execution_count": 494,
   "metadata": {},
   "outputs": [
    {
     "name": "stdout",
     "output_type": "stream",
     "text": [
      "Archive:  data/imdbdb.zip\n"
     ]
    }
   ],
   "source": [
    "!unzip -u data/imdbdb.zip -d data/"
   ]
  },
  {
   "cell_type": "markdown",
   "metadata": {},
   "source": [
    "<br/>\n",
    "\n",
    "**Create the `imdb` database**: <br>\n",
    "We will use PostgreSQL commands to create a database and import our data into it. Run the following cell to do this.\n",
    "* You can also run these cells in the command-line via `psql`.\n",
    "* If you run into the **role does not exist** error, feel free to ignore it. It does not affect data import."
   ]
  },
  {
   "cell_type": "code",
   "execution_count": 495,
   "metadata": {},
   "outputs": [
    {
     "name": "stdout",
     "output_type": "stream",
     "text": [
      " pg_terminate_backend \n",
      "----------------------\n",
      " t\n",
      "(1 row)\n",
      "\n",
      "DROP DATABASE\n",
      "CREATE DATABASE\n",
      " set_config \n",
      "------------\n",
      " \n",
      "(1 row)\n",
      "\n"
     ]
    }
   ],
   "source": [
    "!psql postgresql://jovyan@127.0.0.1:5432/imdb -c 'SELECT pg_terminate_backend(pg_stat_activity.pid) FROM pg_stat_activity WHERE datname = current_database()  AND pid <> pg_backend_pid();'\n",
    "!psql postgresql://jovyan@127.0.0.1:5432/postgres -c 'DROP DATABASE IF EXISTS imdb'\n",
    "!psql postgresql://jovyan@127.0.0.1:5432/postgres -c 'CREATE DATABASE imdb'\n",
    "!psql postgresql://jovyan@127.0.0.1:5432/imdb -f data/imdbdb.sql -q"
   ]
  },
  {
   "cell_type": "markdown",
   "metadata": {},
   "source": [
    "**Connect to `imdb` database in the Notebook**: \n",
    "<br>\n",
    "Now let's connect to the new database we just created! There should be no errors after running the following cell."
   ]
  },
  {
   "cell_type": "code",
   "execution_count": 496,
   "metadata": {},
   "outputs": [],
   "source": [
    "%sql postgresql://jovyan@127.0.0.1:5432/imdb"
   ]
  },
  {
   "cell_type": "markdown",
   "metadata": {},
   "source": [
    "**Connect to `imdb` database in `psql`**: \n",
    "\n",
    "<div class=\"alert alert-block alert-info\">\n",
    "<b>Do the following in a Terminal window!</b> (To open a Terminal in DataHub, go to File -> New -> Terminal.)\n",
    "</div>\n",
    "\n",
    "Connect to the same database via `psql`. See the [Fall 2024 Assignment Tips](https://data101.org/fa24/assignment-tips/#psql-the-postgressql-interactive-cli) website resource for details on connecting. Being able to read and implement written instructions is important and crucial in working as a data engineer! To connect to the database, you should be typing in a command into your JupyterHub Terminal. Once successfully connected, you should see ``imdb=# ``\n",
    "\n",
    "Once connected, run the following meta-command in the `psql` client:\n",
    "\n",
    "``\n",
    "\\l\n",
    "``\n",
    "\n",
    "This should display all databases on this server, including the `imdb` database you just created.\n"
   ]
  },
  {
   "cell_type": "markdown",
   "metadata": {},
   "source": [
    "---\n",
    "\n",
    "**Quick check**: To make sure things are working, let's fetch 10 rows from one of our tables `cast_sample`. Just run the following cell, no further action is needed."
   ]
  },
  {
   "cell_type": "code",
   "execution_count": 497,
   "metadata": {},
   "outputs": [
    {
     "data": {
      "text/html": [
       "<span style=\"None\">Running query in &#x27;postgresql://jovyan@127.0.0.1:5432/imdb&#x27;</span>"
      ],
      "text/plain": [
       "Running query in 'postgresql://jovyan@127.0.0.1:5432/imdb'"
      ]
     },
     "metadata": {},
     "output_type": "display_data"
    },
    {
     "name": "stderr",
     "output_type": "stream",
     "text": [
      "/srv/conda/envs/notebook/lib/python3.11/site-packages/sql/connection/connection.py:899: JupySQLRollbackPerformed: Server closed connection. JupySQL executed a ROLLBACK operation.\n",
      "  warnings.warn(\n"
     ]
    },
    {
     "data": {
      "text/html": [
       "<span style=\"color: green\">10 rows affected.</span>"
      ],
      "text/plain": [
       "10 rows affected."
      ]
     },
     "metadata": {},
     "output_type": "display_data"
    },
    {
     "data": {
      "text/html": [
       "<table>\n",
       "    <thead>\n",
       "        <tr>\n",
       "            <th>id</th>\n",
       "            <th>person_id</th>\n",
       "            <th>movie_id</th>\n",
       "            <th>role_id</th>\n",
       "        </tr>\n",
       "    </thead>\n",
       "    <tbody>\n",
       "        <tr>\n",
       "            <td>708</td>\n",
       "            <td>235</td>\n",
       "            <td>2345369</td>\n",
       "            <td>1</td>\n",
       "        </tr>\n",
       "        <tr>\n",
       "            <td>721</td>\n",
       "            <td>241</td>\n",
       "            <td>2504309</td>\n",
       "            <td>1</td>\n",
       "        </tr>\n",
       "        <tr>\n",
       "            <td>789</td>\n",
       "            <td>264</td>\n",
       "            <td>2156734</td>\n",
       "            <td>1</td>\n",
       "        </tr>\n",
       "        <tr>\n",
       "            <td>875</td>\n",
       "            <td>299</td>\n",
       "            <td>1954994</td>\n",
       "            <td>1</td>\n",
       "        </tr>\n",
       "        <tr>\n",
       "            <td>888</td>\n",
       "            <td>302</td>\n",
       "            <td>765037</td>\n",
       "            <td>1</td>\n",
       "        </tr>\n",
       "        <tr>\n",
       "            <td>889</td>\n",
       "            <td>302</td>\n",
       "            <td>765172</td>\n",
       "            <td>1</td>\n",
       "        </tr>\n",
       "        <tr>\n",
       "            <td>898</td>\n",
       "            <td>306</td>\n",
       "            <td>291387</td>\n",
       "            <td>1</td>\n",
       "        </tr>\n",
       "        <tr>\n",
       "            <td>899</td>\n",
       "            <td>306</td>\n",
       "            <td>1477434</td>\n",
       "            <td>1</td>\n",
       "        </tr>\n",
       "        <tr>\n",
       "            <td>931</td>\n",
       "            <td>324</td>\n",
       "            <td>824119</td>\n",
       "            <td>1</td>\n",
       "        </tr>\n",
       "        <tr>\n",
       "            <td>1936</td>\n",
       "            <td>543</td>\n",
       "            <td>1754068</td>\n",
       "            <td>1</td>\n",
       "        </tr>\n",
       "    </tbody>\n",
       "</table>\n",
       "<span style=\"font-style:italic;text-align:center;\">Truncated to <a href=\"https://jupysql.ploomber.io/en/latest/api/configuration.html#displaylimit\">displaylimit</a> of 10.</span>"
      ],
      "text/plain": [
       "+------+-----------+----------+---------+\n",
       "|  id  | person_id | movie_id | role_id |\n",
       "+------+-----------+----------+---------+\n",
       "| 708  |    235    | 2345369  |    1    |\n",
       "| 721  |    241    | 2504309  |    1    |\n",
       "| 789  |    264    | 2156734  |    1    |\n",
       "| 875  |    299    | 1954994  |    1    |\n",
       "| 888  |    302    |  765037  |    1    |\n",
       "| 889  |    302    |  765172  |    1    |\n",
       "| 898  |    306    |  291387  |    1    |\n",
       "| 899  |    306    | 1477434  |    1    |\n",
       "| 931  |    324    |  824119  |    1    |\n",
       "| 1936 |    543    | 1754068  |    1    |\n",
       "+------+-----------+----------+---------+\n",
       "Truncated to displaylimit of 10."
      ]
     },
     "execution_count": 497,
     "metadata": {},
     "output_type": "execute_result"
    }
   ],
   "source": [
    "%%sql\n",
    "SELECT * \n",
    "  FROM cast_sample\n",
    "LIMIT 10"
   ]
  },
  {
   "cell_type": "markdown",
   "metadata": {},
   "source": [
    "## Connect to the grader"
   ]
  },
  {
   "cell_type": "code",
   "execution_count": 498,
   "metadata": {},
   "outputs": [],
   "source": [
    "# Connecting the grader\n",
    "# Just run the following cell, no further action is needed.\n",
    "from data101_utils import GradingUtil\n",
    "grading_util = GradingUtil(\"proj1\")\n",
    "grading_util.prepare_autograder()"
   ]
  },
  {
   "cell_type": "markdown",
   "metadata": {},
   "source": [
    "## The `imdb` Database\n",
    "\n",
    "<div class=\"alert alert-block alert-danger\">\n",
    "<b>Read this entire section!</b> Understanding the schema is critical to doing the project correctly.\n",
    "</div>\n",
    "\n",
    "In this project, we are working with a reduced version of the [Internet Movie Database (IMDb)](https://www.imdb.com/) database. This Postgres database is a small random sample of actors from the much larger full database (which is over several GBs large) and includes their corresponding movies and cast info. Disclaimer: as a result, we may obtain wildly  different results than if we were to use the entire database. \n",
    "\n",
    "Below is a list of the relations in our database. Please carefully take the time to understand the references between each relations, as this will be important when querying from these relations.  \n",
    "- **actor_sample**: information about the actors including id, name, and gender\n",
    "- **cast_sample**: each person on the cast of each movie gets a row including cast id, each person's `id` (`actor_sample.id`), movie id (`movie_sample.id`), and role id (`role_type.id`)\n",
    "- **movie_sample**: sample of movies the actors have been in, including movie id, title, and the production year\n",
    "- **movie_info_sample**: this table originally had a lot of information for each movie (take a look at info_type to see the information available), but we have dropped some information to make it easier to manage. This table includes movie info's id, movie id, info type id, and the info itself\n",
    "- **info_type**: reference table to match each info type id to the description of the type of information\n",
    "- **role_type**: reference table for cast_sample to match role id to the description of the role\n",
    "\n",
    "Here's an exercise for you to think about: what meta-command (in terminal/CLI) returns this bolded list?\n",
    "\n",
    "### Key Notes\n",
    "- This database is **not** the same as the IMDb lecture database, but has a lot of of similar features. \n",
    "- Point of confusion: `movie_sample` and `actor_sample` both have attributes `id` corresponding to 7 digit unique numeric identifiers, but do **not** refer to the same data values.\n",
    "- `cast_sample` is analagous to the `crew` table from lecture. It can be used to match an actor's id to movies they have acted in, among other relations.\n",
    "- You are highly encouraged to spend some time exploring the metadata of these tables using Postgres meta-commands to better understand the data given and the relations between tables. To get started, try outputting the schema of the tables.\n",
    "- You may create unlimited CTEs, but **please do not create intermediate views** unless explicitly asked to because they may take up significant space and use up your allocated memory.\n",
    "- When querying the tables from the terminal using `psql`, ensure you end every query with a semicolon (`;`). For example, to select everything from the `movie_sample` table, run `SELECT * FROM movie_sample;`"
   ]
  },
  {
   "cell_type": "markdown",
   "metadata": {},
   "source": [
    "<br/><br/><br/>\n",
    "\n",
    "<hr style=\"border: 1px solid #fdb515;\" />\n",
    "\n",
    "\n",
    "# Question 0: Information Schema\n",
    "There are many metadata tables that Postgres updates for us, and the full list is in the Postgres documentation [(Chapter 37)](https://www.postgresql.org/docs/current/information-schema.html).\n",
    "\n",
    "For now, let’s look at the `.tables` table [(37.54)](https://www.postgresql.org/docs/current/infoschema-tables.html), which lists all the tables located in the database. Write a query that returns all rows referring to the six tables we described above in our `imdb` database.\n",
    "\n",
    "**Hints:**\n",
    "* What `table_schema` do these `imdb` data tables belong to?\n",
    "* Try writing a `SELECT` query that queries from `information_schema.tables`."
   ]
  },
  {
   "cell_type": "code",
   "execution_count": 499,
   "metadata": {
    "tags": []
   },
   "outputs": [
    {
     "data": {
      "text/html": [
       "<span style=\"None\">Running query in &#x27;postgresql://jovyan@127.0.0.1:5432/imdb&#x27;</span>"
      ],
      "text/plain": [
       "Running query in 'postgresql://jovyan@127.0.0.1:5432/imdb'"
      ]
     },
     "metadata": {},
     "output_type": "display_data"
    },
    {
     "data": {
      "text/html": [
       "<span style=\"color: green\">6 rows affected.</span>"
      ],
      "text/plain": [
       "6 rows affected."
      ]
     },
     "metadata": {},
     "output_type": "display_data"
    }
   ],
   "source": [
    "%%sql --save query_0 result_0 <<\n",
    "SELECT *\n",
    "FROM information_schema.tables\n",
    "WHERE table_schema = 'public';"
   ]
  },
  {
   "cell_type": "code",
   "execution_count": 500,
   "metadata": {
    "tags": []
   },
   "outputs": [
    {
     "data": {
      "text/html": [
       "<table>\n",
       "    <thead>\n",
       "        <tr>\n",
       "            <th>table_catalog</th>\n",
       "            <th>table_schema</th>\n",
       "            <th>table_name</th>\n",
       "            <th>table_type</th>\n",
       "            <th>self_referencing_column_name</th>\n",
       "            <th>reference_generation</th>\n",
       "            <th>user_defined_type_catalog</th>\n",
       "            <th>user_defined_type_schema</th>\n",
       "            <th>user_defined_type_name</th>\n",
       "            <th>is_insertable_into</th>\n",
       "            <th>is_typed</th>\n",
       "            <th>commit_action</th>\n",
       "        </tr>\n",
       "    </thead>\n",
       "    <tbody>\n",
       "        <tr>\n",
       "            <td>imdb</td>\n",
       "            <td>public</td>\n",
       "            <td>actor_sample</td>\n",
       "            <td>BASE TABLE</td>\n",
       "            <td>None</td>\n",
       "            <td>None</td>\n",
       "            <td>None</td>\n",
       "            <td>None</td>\n",
       "            <td>None</td>\n",
       "            <td>YES</td>\n",
       "            <td>NO</td>\n",
       "            <td>None</td>\n",
       "        </tr>\n",
       "        <tr>\n",
       "            <td>imdb</td>\n",
       "            <td>public</td>\n",
       "            <td>cast_sample</td>\n",
       "            <td>BASE TABLE</td>\n",
       "            <td>None</td>\n",
       "            <td>None</td>\n",
       "            <td>None</td>\n",
       "            <td>None</td>\n",
       "            <td>None</td>\n",
       "            <td>YES</td>\n",
       "            <td>NO</td>\n",
       "            <td>None</td>\n",
       "        </tr>\n",
       "        <tr>\n",
       "            <td>imdb</td>\n",
       "            <td>public</td>\n",
       "            <td>info_type</td>\n",
       "            <td>BASE TABLE</td>\n",
       "            <td>None</td>\n",
       "            <td>None</td>\n",
       "            <td>None</td>\n",
       "            <td>None</td>\n",
       "            <td>None</td>\n",
       "            <td>YES</td>\n",
       "            <td>NO</td>\n",
       "            <td>None</td>\n",
       "        </tr>\n",
       "        <tr>\n",
       "            <td>imdb</td>\n",
       "            <td>public</td>\n",
       "            <td>movie_info_sample</td>\n",
       "            <td>BASE TABLE</td>\n",
       "            <td>None</td>\n",
       "            <td>None</td>\n",
       "            <td>None</td>\n",
       "            <td>None</td>\n",
       "            <td>None</td>\n",
       "            <td>YES</td>\n",
       "            <td>NO</td>\n",
       "            <td>None</td>\n",
       "        </tr>\n",
       "        <tr>\n",
       "            <td>imdb</td>\n",
       "            <td>public</td>\n",
       "            <td>movie_sample</td>\n",
       "            <td>BASE TABLE</td>\n",
       "            <td>None</td>\n",
       "            <td>None</td>\n",
       "            <td>None</td>\n",
       "            <td>None</td>\n",
       "            <td>None</td>\n",
       "            <td>YES</td>\n",
       "            <td>NO</td>\n",
       "            <td>None</td>\n",
       "        </tr>\n",
       "        <tr>\n",
       "            <td>imdb</td>\n",
       "            <td>public</td>\n",
       "            <td>role_type</td>\n",
       "            <td>BASE TABLE</td>\n",
       "            <td>None</td>\n",
       "            <td>None</td>\n",
       "            <td>None</td>\n",
       "            <td>None</td>\n",
       "            <td>None</td>\n",
       "            <td>YES</td>\n",
       "            <td>NO</td>\n",
       "            <td>None</td>\n",
       "        </tr>\n",
       "    </tbody>\n",
       "</table>"
      ],
      "text/plain": [
       "+---------------+--------------+-------------------+------------+------------------------------+----------------------+---------------------------+--------------------------+------------------------+--------------------+----------+---------------+\n",
       "| table_catalog | table_schema |     table_name    | table_type | self_referencing_column_name | reference_generation | user_defined_type_catalog | user_defined_type_schema | user_defined_type_name | is_insertable_into | is_typed | commit_action |\n",
       "+---------------+--------------+-------------------+------------+------------------------------+----------------------+---------------------------+--------------------------+------------------------+--------------------+----------+---------------+\n",
       "|      imdb     |    public    |    actor_sample   | BASE TABLE |             None             |         None         |            None           |           None           |          None          |        YES         |    NO    |      None     |\n",
       "|      imdb     |    public    |    cast_sample    | BASE TABLE |             None             |         None         |            None           |           None           |          None          |        YES         |    NO    |      None     |\n",
       "|      imdb     |    public    |     info_type     | BASE TABLE |             None             |         None         |            None           |           None           |          None          |        YES         |    NO    |      None     |\n",
       "|      imdb     |    public    | movie_info_sample | BASE TABLE |             None             |         None         |            None           |           None           |          None          |        YES         |    NO    |      None     |\n",
       "|      imdb     |    public    |    movie_sample   | BASE TABLE |             None             |         None         |            None           |           None           |          None          |        YES         |    NO    |      None     |\n",
       "|      imdb     |    public    |     role_type     | BASE TABLE |             None             |         None         |            None           |           None           |          None          |        YES         |    NO    |      None     |\n",
       "+---------------+--------------+-------------------+------------+------------------------------+----------------------+---------------------------+--------------------------+------------------------+--------------------+----------+---------------+"
      ]
     },
     "execution_count": 500,
     "metadata": {},
     "output_type": "execute_result"
    }
   ],
   "source": [
    "# Do not delete/edit this cell!\n",
    "# You must run this cell before running the autograder.\n",
    "query_0 = %sqlcmd snippets query_0\n",
    "grading_util.save_results(\"result_0\", query_0, result_0)\n",
    "result_0"
   ]
  },
  {
   "cell_type": "code",
   "execution_count": 501,
   "metadata": {
    "deletable": false,
    "editable": false
   },
   "outputs": [
    {
     "data": {
      "text/html": [
       "<p><strong><pre style='display: inline;'>q0</pre></strong> passed! 💯</p>"
      ],
      "text/plain": [
       "q0 results: All test cases passed!"
      ]
     },
     "execution_count": 501,
     "metadata": {},
     "output_type": "execute_result"
    }
   ],
   "source": [
    "grader.check(\"q0\")"
   ]
  },
  {
   "cell_type": "markdown",
   "metadata": {},
   "source": [
    "<br/><br/><br/>\n",
    "\n",
    "<hr style=\"border: 1px solid #fdb515;\" />\n",
    "\n",
    "\n",
    "# Question 1: Exploratory Data Analysis\n",
    "One of the first things you'll want to do with a database table is get a sense for its metadata: column names and types, and number of rows. \n",
    "\n",
    "## Question 1a"
   ]
  },
  {
   "cell_type": "markdown",
   "metadata": {
    "deletable": false,
    "editable": false
   },
   "source": [
    "We can use the PostgreSQL `\\d` meta-command to get a description of the `movie_info_sample` schema. Open up a terminal window, connect to the imdb server, and analyze the output of the meta-command: ``\\d movie_info_sample``. This should be very similar to what you did in the Database Setup section near the top of this project notebook.\n",
    "\n",
    "\n",
    "There are four attributes in this schema, of which `id` is one. What are the other attribute names? Assign `result_1a` to a list of strings, where each element is an attribute name. The list does not need to be in order."
   ]
  },
  {
   "cell_type": "code",
   "execution_count": 502,
   "metadata": {
    "tags": []
   },
   "outputs": [
    {
     "data": {
      "text/plain": [
       "['id', 'movie_id', 'info_type_id', 'info']"
      ]
     },
     "execution_count": 502,
     "metadata": {},
     "output_type": "execute_result"
    }
   ],
   "source": [
    "result_1a = [\"id\", \"movie_id\", \"info_type_id\", \"info\"]\n",
    "result_1a"
   ]
  },
  {
   "cell_type": "code",
   "execution_count": 503,
   "metadata": {
    "deletable": false,
    "editable": false
   },
   "outputs": [
    {
     "data": {
      "text/html": [
       "<p><strong><pre style='display: inline;'>q1a</pre></strong> passed! 🎉</p>"
      ],
      "text/plain": [
       "q1a results: All test cases passed!"
      ]
     },
     "execution_count": 503,
     "metadata": {},
     "output_type": "execute_result"
    }
   ],
   "source": [
    "grader.check(\"q1a\")"
   ]
  },
  {
   "cell_type": "markdown",
   "metadata": {},
   "source": [
    "**Debugging tip**: Throughout this project and when working with databases, you should always be checking schemas via the `\\d` psql metacommand."
   ]
  },
  {
   "cell_type": "markdown",
   "metadata": {
    "deletable": false,
    "editable": false
   },
   "source": [
    "<br><br>\n",
    "\n",
    "---\n",
    "\n",
    "## Question 1b"
   ]
  },
  {
   "cell_type": "markdown",
   "metadata": {
    "deletable": false,
    "editable": false
   },
   "source": [
    "Next, let’s continue with our initial exploration of this table. How many rows are in this table? \n",
    "\n",
    "Assign `result_1b` to the result of a SQL query to calculate the number of rows in the `movie_info_sample` table.\n",
    "\n",
    "**Hints:**\n",
    "\n",
    "- See the [Assignment Tips](https://data101.org/fa24/assignment-tips/) page for how to use SQL line magic. Note: SQL line magic is *different* from SQL multi-cell magic, which uses `%%` instead of the single `%` for single line magic. \n",
    "- Your query result should have exactly one row and one attribute; the lone value in the instance should be the number of rows:\n",
    "\n",
    "| count |\n",
    "| ----- |\n",
    "| SOME_INTEGER |\n",
    "\n",
    "- See the `JupySQL` [documentation](https://jupysql.ploomber.io/en/latest/intro.html) for how to index into a SQL query result."
   ]
  },
  {
   "cell_type": "code",
   "execution_count": 504,
   "metadata": {
    "tags": []
   },
   "outputs": [
    {
     "data": {
      "text/html": [
       "<span style=\"None\">Running query in &#x27;postgresql://jovyan@127.0.0.1:5432/imdb&#x27;</span>"
      ],
      "text/plain": [
       "Running query in 'postgresql://jovyan@127.0.0.1:5432/imdb'"
      ]
     },
     "metadata": {},
     "output_type": "display_data"
    },
    {
     "data": {
      "text/html": [
       "<span style=\"color: green\">1 rows affected.</span>"
      ],
      "text/plain": [
       "1 rows affected."
      ]
     },
     "metadata": {},
     "output_type": "display_data"
    }
   ],
   "source": [
    "%%sql --save query_1b result_1b <<\n",
    "SELECT COUNT(*) AS count \n",
    "FROM movie_info_sample;"
   ]
  },
  {
   "cell_type": "code",
   "execution_count": 505,
   "metadata": {
    "tags": []
   },
   "outputs": [
    {
     "data": {
      "text/html": [
       "<table>\n",
       "    <thead>\n",
       "        <tr>\n",
       "            <th>count</th>\n",
       "        </tr>\n",
       "    </thead>\n",
       "    <tbody>\n",
       "        <tr>\n",
       "            <td>2433431</td>\n",
       "        </tr>\n",
       "    </tbody>\n",
       "</table>"
      ],
      "text/plain": [
       "+---------+\n",
       "|  count  |\n",
       "+---------+\n",
       "| 2433431 |\n",
       "+---------+"
      ]
     },
     "metadata": {},
     "output_type": "display_data"
    }
   ],
   "source": [
    "# Do not delete/edit this cell!\n",
    "# You must run this cell before running the autograder.\n",
    "query_1b = %sqlcmd snippets query_1b\n",
    "grading_util.save_results(\"result_1b\", query_1b, result_1b)\n",
    "display(result_1b)"
   ]
  },
  {
   "cell_type": "code",
   "execution_count": 506,
   "metadata": {
    "deletable": false,
    "editable": false
   },
   "outputs": [
    {
     "data": {
      "text/html": [
       "<p><strong><pre style='display: inline;'>q1b</pre></strong> passed! ✨</p>"
      ],
      "text/plain": [
       "q1b results: All test cases passed!"
      ]
     },
     "execution_count": 506,
     "metadata": {},
     "output_type": "execute_result"
    }
   ],
   "source": [
    "grader.check(\"q1b\")"
   ]
  },
  {
   "cell_type": "markdown",
   "metadata": {
    "deletable": false,
    "editable": false
   },
   "source": [
    "<br><br>\n",
    "\n",
    "---\n",
    "\n",
    "## Question 1c: Random table sample\n",
    "\n",
    "Now that we know a bit about the metadata of the table, let's randomly sample rows from `movie_info_sample` to explore its contents.\n",
    "\n",
    "Given that you know the size of the table from the previous query, **write a query that retrieves 5 tuples on expectation using the `BERNOULLI` sampling method.** That is, if we run the query multiple times, we should get 5 tuples on *average* in our resulting table. The `BERNOULLI` sampling method scans the whole table and selects individual rows independently with `p%` probability. Please see the [course notes on sampling](https://data101.org/notes/1-SQL/truncation.html#sampling) for syntax.\n",
    "\n",
    "\n",
    "**Hints:**\n",
    "* Assign `p_1c` to a sampling rate that you pass into the `query_1c` f-string using Python variable substitution. Your formula should contain `count_1b`, which is the number of rows in the table. Don't forget to express `p_1c` in units of percent, i.e., if you want to assign it to a value of 3%, you should do `p_1c = 3` not `p_1c = 0.03`\n",
    "* For a refresher on f-strings and Python variable substitution, see [this tutorial](https://www.geeksforgeeks.org/formatted-string-literals-f-strings-python/). If Python variable substitution is done correctly, we should be able to change our `p%` probability by simply reassigning `p_1c` and rerunning the query. (Please leave `p_1c` unchanged.)\n",
    "* We have completed the SQL line magic for you; this references the Python f-string `query_1c` you created within a SQL query using JupySQL-specific syntax.\n",
    "* Try running the SQL cell many times and see what you notice."
   ]
  },
  {
   "cell_type": "code",
   "execution_count": 507,
   "metadata": {
    "tags": []
   },
   "outputs": [],
   "source": [
    "query_1b, result_1b_df = grading_util.load_results(\"result_1b\")\n",
    "count_1b = result_1b_df.iloc[0, 0]\n",
    "p_1c = max(0.0001, min(5 / count_1b, 0.001))\n",
    "# edit this query string using variable substitution and your defined p_1c\n",
    "query_1c_str = f\"\"\"SELECT * FROM movie_info_sample TABLESAMPLE BERNOULLI({p_1c * 100})\"\"\" "
   ]
  },
  {
   "cell_type": "code",
   "execution_count": 508,
   "metadata": {
    "tags": []
   },
   "outputs": [
    {
     "data": {
      "text/html": [
       "<span style=\"None\">Running query in &#x27;postgresql://jovyan@127.0.0.1:5432/imdb&#x27;</span>"
      ],
      "text/plain": [
       "Running query in 'postgresql://jovyan@127.0.0.1:5432/imdb'"
      ]
     },
     "metadata": {},
     "output_type": "display_data"
    },
    {
     "data": {
      "text/html": [
       "<span style=\"color: green\">263 rows affected.</span>"
      ],
      "text/plain": [
       "263 rows affected."
      ]
     },
     "metadata": {},
     "output_type": "display_data"
    }
   ],
   "source": [
    "%%sql --save query_1c result_1c <<\n",
    "{{query_1c_str}}"
   ]
  },
  {
   "cell_type": "code",
   "execution_count": 509,
   "metadata": {
    "tags": []
   },
   "outputs": [
    {
     "data": {
      "text/html": [
       "<table>\n",
       "    <thead>\n",
       "        <tr>\n",
       "            <th>id</th>\n",
       "            <th>movie_id</th>\n",
       "            <th>info_type_id</th>\n",
       "            <th>info</th>\n",
       "        </tr>\n",
       "    </thead>\n",
       "    <tbody>\n",
       "        <tr>\n",
       "            <td>9762272</td>\n",
       "            <td>2494361</td>\n",
       "            <td>1</td>\n",
       "            <td>USA:65</td>\n",
       "        </tr>\n",
       "        <tr>\n",
       "            <td>6351748</td>\n",
       "            <td>2115451</td>\n",
       "            <td>3</td>\n",
       "            <td>Comedy</td>\n",
       "        </tr>\n",
       "        <tr>\n",
       "            <td>9439949</td>\n",
       "            <td>2000964</td>\n",
       "            <td>1</td>\n",
       "            <td>92</td>\n",
       "        </tr>\n",
       "        <tr>\n",
       "            <td>1485413</td>\n",
       "            <td>2169331</td>\n",
       "            <td>106</td>\n",
       "            <td>$3,172 (USA) (4 February 2007) (2 screens)</td>\n",
       "        </tr>\n",
       "        <tr>\n",
       "            <td>1643580</td>\n",
       "            <td>2365874</td>\n",
       "            <td>105</td>\n",
       "            <td>$4,500,000</td>\n",
       "        </tr>\n",
       "        <tr>\n",
       "            <td>4439180</td>\n",
       "            <td>1211715</td>\n",
       "            <td>8</td>\n",
       "            <td>USA</td>\n",
       "        </tr>\n",
       "        <tr>\n",
       "            <td>5025272</td>\n",
       "            <td>2088747</td>\n",
       "            <td>8</td>\n",
       "            <td>Portugal</td>\n",
       "        </tr>\n",
       "        <tr>\n",
       "            <td>5781707</td>\n",
       "            <td>1741114</td>\n",
       "            <td>3</td>\n",
       "            <td>Adult</td>\n",
       "        </tr>\n",
       "        <tr>\n",
       "            <td>1309166</td>\n",
       "            <td>1636189</td>\n",
       "            <td>107</td>\n",
       "            <td>£1,390,131 (UK) (8 April 2001)</td>\n",
       "        </tr>\n",
       "        <tr>\n",
       "            <td>1320856</td>\n",
       "            <td>1867314</td>\n",
       "            <td>110</td>\n",
       "            <td>45,666 (France) (15 February 2000)</td>\n",
       "        </tr>\n",
       "    </tbody>\n",
       "</table>"
      ],
      "text/plain": [
       "+---------+----------+--------------+--------------------------------------------+\n",
       "|    id   | movie_id | info_type_id |                    info                    |\n",
       "+---------+----------+--------------+--------------------------------------------+\n",
       "| 9762272 | 2494361  |      1       |                   USA:65                   |\n",
       "| 6351748 | 2115451  |      3       |                   Comedy                   |\n",
       "| 9439949 | 2000964  |      1       |                     92                     |\n",
       "| 1485413 | 2169331  |     106      | $3,172 (USA) (4 February 2007) (2 screens) |\n",
       "| 1643580 | 2365874  |     105      |                 $4,500,000                 |\n",
       "| 4439180 | 1211715  |      8       |                    USA                     |\n",
       "| 5025272 | 2088747  |      8       |                  Portugal                  |\n",
       "| 5781707 | 1741114  |      3       |                   Adult                    |\n",
       "| 1309166 | 1636189  |     107      |       £1,390,131 (UK) (8 April 2001)       |\n",
       "| 1320856 | 1867314  |     110      |     45,666 (France) (15 February 2000)     |\n",
       "+---------+----------+--------------+--------------------------------------------+"
      ]
     },
     "execution_count": 509,
     "metadata": {},
     "output_type": "execute_result"
    }
   ],
   "source": [
    "# Do not delete/edit this cell!\n",
    "# You must run this cell before running the autograder.\n",
    "query_1c = %sqlcmd snippets query_1c\n",
    "grading_util.save_results(\"result_1c\", query_1c, result_1c)\n",
    "result_1c"
   ]
  },
  {
   "cell_type": "code",
   "execution_count": 510,
   "metadata": {
    "deletable": false,
    "editable": false
   },
   "outputs": [
    {
     "data": {
      "text/html": [
       "<p><strong><pre style='display: inline;'>q1c</pre></strong> passed! 🙌</p>"
      ],
      "text/plain": [
       "q1c results: All test cases passed!"
      ]
     },
     "execution_count": 510,
     "metadata": {},
     "output_type": "execute_result"
    }
   ],
   "source": [
    "grader.check(\"q1c\")"
   ]
  },
  {
   "cell_type": "markdown",
   "metadata": {
    "deletable": false,
    "editable": false
   },
   "source": [
    "<br><br>\n",
    "\n",
    "---\n",
    "\n",
    "## Question 1d: Random sample, fixed number of rows\n",
    "\n",
    "If a random number of rows is not of importance, a more efficient way to get some arbitrary tuples from a table is to use the `ORDER BY` and `LIMIT` clauses. In the next cell, fetch 5 **random** tuples from `movie_info_sample`. Compared to the previous question, your query result here should always have 5 tuples!\n",
    "\n",
    "**Hint**: Check out the [course notes on sampling](https://data101.org/notes/1-SQL/truncation.html#sampling).\n"
   ]
  },
  {
   "cell_type": "code",
   "execution_count": 511,
   "metadata": {
    "tags": []
   },
   "outputs": [
    {
     "data": {
      "text/html": [
       "<span style=\"None\">Running query in &#x27;postgresql://jovyan@127.0.0.1:5432/imdb&#x27;</span>"
      ],
      "text/plain": [
       "Running query in 'postgresql://jovyan@127.0.0.1:5432/imdb'"
      ]
     },
     "metadata": {},
     "output_type": "display_data"
    },
    {
     "data": {
      "text/html": [
       "<span style=\"color: green\">5 rows affected.</span>"
      ],
      "text/plain": [
       "5 rows affected."
      ]
     },
     "metadata": {},
     "output_type": "display_data"
    }
   ],
   "source": [
    "%%sql --save query_1d result_1d <<\n",
    "SELECT * \n",
    "FROM movie_info_sample \n",
    "ORDER BY RANDOM()\n",
    "LIMIT 5;"
   ]
  },
  {
   "cell_type": "code",
   "execution_count": 512,
   "metadata": {
    "tags": []
   },
   "outputs": [
    {
     "data": {
      "text/html": [
       "<table>\n",
       "    <thead>\n",
       "        <tr>\n",
       "            <th>id</th>\n",
       "            <th>movie_id</th>\n",
       "            <th>info_type_id</th>\n",
       "            <th>info</th>\n",
       "        </tr>\n",
       "    </thead>\n",
       "    <tbody>\n",
       "        <tr>\n",
       "            <td>4408250</td>\n",
       "            <td>1065720</td>\n",
       "            <td>8</td>\n",
       "            <td>UK</td>\n",
       "        </tr>\n",
       "        <tr>\n",
       "            <td>1537212</td>\n",
       "            <td>1893775</td>\n",
       "            <td>105</td>\n",
       "            <td>DKK 45,000,000</td>\n",
       "        </tr>\n",
       "        <tr>\n",
       "            <td>9684169</td>\n",
       "            <td>2373895</td>\n",
       "            <td>1</td>\n",
       "            <td>6</td>\n",
       "        </tr>\n",
       "        <tr>\n",
       "            <td>9750984</td>\n",
       "            <td>2477733</td>\n",
       "            <td>1</td>\n",
       "            <td>Netherlands:103</td>\n",
       "        </tr>\n",
       "        <tr>\n",
       "            <td>6003931</td>\n",
       "            <td>1885982</td>\n",
       "            <td>3</td>\n",
       "            <td>Drama</td>\n",
       "        </tr>\n",
       "    </tbody>\n",
       "</table>"
      ],
      "text/plain": [
       "+---------+----------+--------------+-----------------+\n",
       "|    id   | movie_id | info_type_id |       info      |\n",
       "+---------+----------+--------------+-----------------+\n",
       "| 4408250 | 1065720  |      8       |        UK       |\n",
       "| 1537212 | 1893775  |     105      |  DKK 45,000,000 |\n",
       "| 9684169 | 2373895  |      1       |        6        |\n",
       "| 9750984 | 2477733  |      1       | Netherlands:103 |\n",
       "| 6003931 | 1885982  |      3       |      Drama      |\n",
       "+---------+----------+--------------+-----------------+"
      ]
     },
     "execution_count": 512,
     "metadata": {},
     "output_type": "execute_result"
    }
   ],
   "source": [
    "# Do not delete/edit this cell!\n",
    "# You must run this cell before running the autograder.\n",
    "query_1d = %sqlcmd snippets query_1d\n",
    "grading_util.save_results(\"result_1d\", query_1d, result_1d)\n",
    "result_1d"
   ]
  },
  {
   "cell_type": "code",
   "execution_count": 513,
   "metadata": {
    "deletable": false,
    "editable": false
   },
   "outputs": [
    {
     "data": {
      "text/html": [
       "<p><strong><pre style='display: inline;'>q1d</pre></strong> passed! 🎉</p>"
      ],
      "text/plain": [
       "q1d results: All test cases passed!"
      ]
     },
     "execution_count": 513,
     "metadata": {},
     "output_type": "execute_result"
    }
   ],
   "source": [
    "grader.check(\"q1d\")"
   ]
  },
  {
   "cell_type": "markdown",
   "metadata": {},
   "source": [
    "<br/><br/><br/>\n",
    "<hr style=\"border: 1px solid #fdb515;\" />\n",
    "\n",
    "\n",
    "# Question 2: Data Cleaning"
   ]
  },
  {
   "cell_type": "markdown",
   "metadata": {},
   "source": [
    "The `movie_sample` table contains a very minimal amount of information per movie:"
   ]
  },
  {
   "cell_type": "code",
   "execution_count": 514,
   "metadata": {},
   "outputs": [
    {
     "data": {
      "text/html": [
       "<span style=\"None\">Running query in &#x27;postgresql://jovyan@127.0.0.1:5432/imdb&#x27;</span>"
      ],
      "text/plain": [
       "Running query in 'postgresql://jovyan@127.0.0.1:5432/imdb'"
      ]
     },
     "metadata": {},
     "output_type": "display_data"
    },
    {
     "data": {
      "text/html": [
       "<span style=\"color: green\">5 rows affected.</span>"
      ],
      "text/plain": [
       "5 rows affected."
      ]
     },
     "metadata": {},
     "output_type": "display_data"
    },
    {
     "data": {
      "text/html": [
       "<table>\n",
       "    <thead>\n",
       "        <tr>\n",
       "            <th>id</th>\n",
       "            <th>title</th>\n",
       "            <th>production_year</th>\n",
       "        </tr>\n",
       "    </thead>\n",
       "    <tbody>\n",
       "        <tr>\n",
       "            <td>2038405</td>\n",
       "            <td>La corte de faraón</td>\n",
       "            <td>1944</td>\n",
       "        </tr>\n",
       "        <tr>\n",
       "            <td>2081186</td>\n",
       "            <td>Long de xin</td>\n",
       "            <td>1985</td>\n",
       "        </tr>\n",
       "        <tr>\n",
       "            <td>2177749</td>\n",
       "            <td>Onésime aime les bêtes</td>\n",
       "            <td>1913</td>\n",
       "        </tr>\n",
       "        <tr>\n",
       "            <td>1718608</td>\n",
       "            <td>Bedtime Worries</td>\n",
       "            <td>1933</td>\n",
       "        </tr>\n",
       "        <tr>\n",
       "            <td>2130699</td>\n",
       "            <td>Mothman</td>\n",
       "            <td>2000</td>\n",
       "        </tr>\n",
       "    </tbody>\n",
       "</table>"
      ],
      "text/plain": [
       "+---------+------------------------+-----------------+\n",
       "|    id   |         title          | production_year |\n",
       "+---------+------------------------+-----------------+\n",
       "| 2038405 |   La corte de faraón   |       1944      |\n",
       "| 2081186 |      Long de xin       |       1985      |\n",
       "| 2177749 | Onésime aime les bêtes |       1913      |\n",
       "| 1718608 |    Bedtime Worries     |       1933      |\n",
       "| 2130699 |        Mothman         |       2000      |\n",
       "+---------+------------------------+-----------------+"
      ]
     },
     "execution_count": 514,
     "metadata": {},
     "output_type": "execute_result"
    }
   ],
   "source": [
    "%sql SELECT * FROM movie_sample LIMIT 5;"
   ]
  },
  {
   "cell_type": "markdown",
   "metadata": {},
   "source": [
    "In this question, we’re going to create a nice, refined view of the `movie_sample` table that also includes a **rating field**, called `movie_ratings`.\n",
    "\n",
    "The [MPAA rating](https://www.motionpictures.org/film-ratings/) is commonly included in most datasets about movies, including ours, but in its current format in the dataset, it’s quite difficult to extract.\n",
    "\n",
    "The first clue about our approach comes from the random rows you explored in Question 1. As you saw, the `movie_info_sample` table contains a lot of information about each movie. Each row contains a particular type of information (e.g., runtime, languages) categorized by `info_type_id`. Based on the other tables in this database, the `info_type` table is a reference table to this \n",
    "ID number.\n",
    "\n",
    "Our strategy in this question is therefore as follows:\n",
    "* **Question 2a**: Find the `mpaa_rating_id` from the `info_type` table.\n",
    "* **Question 2b**: Extract the MPAA rating of a specific movie from the `movie_info_sample` table.\n",
    "* **Question 2c**: Construct a view `movie_ratings` based on the `movie_sample` table and all relevant MPAA ratings extracted from the `movie_info_sample` table."
   ]
  },
  {
   "cell_type": "markdown",
   "metadata": {
    "deletable": false,
    "editable": false
   },
   "source": [
    "<br><br>\n",
    "\n",
    "---\n",
    "\n",
    "## Question 2a: MPAA Rating and `info_type`\n",
    "\n",
    "To start, using the `info_type` table, write a query to find which `id` corresponds to a film's MPAA rating.  The query `result_2a` that you write should return a relation with exactly one row and two attributes; the lone value in the instance should be the MPAA rating id number. In other words, your output table should look like this:\n",
    "\n",
    "| id | info |\n",
    "| :--- | :--- |\n",
    "| SOME_INTEGER_HERE | SOME_STRING_HERE |\n",
    "\n",
    "\n",
    "We've then assigned `mpaa_rating_id` to extract the number itself from the relation.\n",
    "\n",
    "**Hints:** \n",
    "- Open the `psql` client in a terminal to explore the schema of `info_type` via the `\\d` metacommand (see the [Assignment Tips](https://data101.org/fa24/assignment-tips/) page).\n",
    "- Remember you can also write SQL commands to that terminal to interact with the IMDB database, but all final work must be submitted through this Jupyter Notebook. We recommend selecting everything from the `info_type` table to see what the data looks like. Which row corresponds to the MPAA rating?\n",
    "- Be careful when using quotes. SQL interprets single and double quotes differently. The single quote character `'` is reserved for delimiting string constants, while the double quote `\"` is used for naming tables or columns that require special characters. See the [Postgres documentation](https://www.postgresql.org/docs/current/sql-syntax-lexical.html#SQL-SYNTAX-STRINGS) for more."
   ]
  },
  {
   "cell_type": "code",
   "execution_count": 515,
   "metadata": {
    "tags": []
   },
   "outputs": [
    {
     "data": {
      "text/html": [
       "<span style=\"None\">Running query in &#x27;postgresql://jovyan@127.0.0.1:5432/imdb&#x27;</span>"
      ],
      "text/plain": [
       "Running query in 'postgresql://jovyan@127.0.0.1:5432/imdb'"
      ]
     },
     "metadata": {},
     "output_type": "display_data"
    },
    {
     "data": {
      "text/html": [
       "<span style=\"color: green\">1 rows affected.</span>"
      ],
      "text/plain": [
       "1 rows affected."
      ]
     },
     "metadata": {},
     "output_type": "display_data"
    }
   ],
   "source": [
    "%%sql --save query_2a result_2a <<\n",
    "SELECT * FROM info_type WHERE info ILIKE '%mpaa%';"
   ]
  },
  {
   "cell_type": "code",
   "execution_count": 516,
   "metadata": {
    "tags": []
   },
   "outputs": [
    {
     "data": {
      "text/html": [
       "<table>\n",
       "    <thead>\n",
       "        <tr>\n",
       "            <th>id</th>\n",
       "            <th>info</th>\n",
       "        </tr>\n",
       "    </thead>\n",
       "    <tbody>\n",
       "        <tr>\n",
       "            <td>97</td>\n",
       "            <td>mpaa</td>\n",
       "        </tr>\n",
       "    </tbody>\n",
       "</table>"
      ],
      "text/plain": [
       "+----+------+\n",
       "| id | info |\n",
       "+----+------+\n",
       "| 97 | mpaa |\n",
       "+----+------+"
      ]
     },
     "metadata": {},
     "output_type": "display_data"
    },
    {
     "data": {
      "text/plain": [
       "97"
      ]
     },
     "execution_count": 516,
     "metadata": {},
     "output_type": "execute_result"
    }
   ],
   "source": [
    "# Do not delete/edit this cell!\n",
    "# You must run this cell before running the autograder.\n",
    "query_2a = %sqlcmd snippets query_2a\n",
    "grading_util.save_results(\"result_2a\", query_2a, result_2a)\n",
    "mpaa_rating_id = result_2a[0][0]\n",
    "display(result_2a)\n",
    "mpaa_rating_id"
   ]
  },
  {
   "cell_type": "code",
   "execution_count": 517,
   "metadata": {
    "deletable": false,
    "editable": false
   },
   "outputs": [
    {
     "data": {
      "text/html": [
       "<p><strong><pre style='display: inline;'>q2a</pre></strong> passed! 💯</p>"
      ],
      "text/plain": [
       "q2a results: All test cases passed!"
      ]
     },
     "execution_count": 517,
     "metadata": {},
     "output_type": "execute_result"
    }
   ],
   "source": [
    "grader.check(\"q2a\")"
   ]
  },
  {
   "cell_type": "markdown",
   "metadata": {
    "deletable": false,
    "editable": false
   },
   "source": [
    "<br><br>\n",
    "\n",
    "---\n",
    "\n",
    "## Question 2b: Looking up the MPAA Rating\n",
    "\n",
    "Suppose we wanted to find the MPAA rating for the 2004 American teen drama classic, _Mean Girls_. The below cell assigns `movie_id_2b` to the IMDb ID of this movie, `2109683`. Then we select the `movie_sample` data for that movie ID."
   ]
  },
  {
   "cell_type": "code",
   "execution_count": 518,
   "metadata": {
    "deletable": false,
    "editable": false
   },
   "outputs": [
    {
     "data": {
      "text/html": [
       "<span style=\"None\">Running query in &#x27;postgresql://jovyan@127.0.0.1:5432/imdb&#x27;</span>"
      ],
      "text/plain": [
       "Running query in 'postgresql://jovyan@127.0.0.1:5432/imdb'"
      ]
     },
     "metadata": {},
     "output_type": "display_data"
    },
    {
     "data": {
      "text/html": [
       "<span style=\"color: green\">1 rows affected.</span>"
      ],
      "text/plain": [
       "1 rows affected."
      ]
     },
     "metadata": {},
     "output_type": "display_data"
    },
    {
     "data": {
      "text/html": [
       "<table>\n",
       "    <thead>\n",
       "        <tr>\n",
       "            <th>id</th>\n",
       "            <th>title</th>\n",
       "            <th>production_year</th>\n",
       "        </tr>\n",
       "    </thead>\n",
       "    <tbody>\n",
       "        <tr>\n",
       "            <td>2109683</td>\n",
       "            <td>Mean Girls</td>\n",
       "            <td>2004</td>\n",
       "        </tr>\n",
       "    </tbody>\n",
       "</table>"
      ],
      "text/plain": [
       "+---------+------------+-----------------+\n",
       "|    id   |   title    | production_year |\n",
       "+---------+------------+-----------------+\n",
       "| 2109683 | Mean Girls |       2004      |\n",
       "+---------+------------+-----------------+"
      ]
     },
     "execution_count": 518,
     "metadata": {},
     "output_type": "execute_result"
    }
   ],
   "source": [
    "# Just run this cell, no further action is needed.\n",
    "movie_id_2b = 2109683\n",
    "%sql SELECT * FROM movie_sample WHERE id = {{movie_id_2b}};"
   ]
  },
  {
   "cell_type": "markdown",
   "metadata": {
    "deletable": false,
    "editable": false
   },
   "source": [
    "In the next cell, **write a query to find the MPAA rating for this movie.** Your query should return a relation with exactly one row , which has columns `(info, mpaa_rating)`, where `info` is the full MPAA rating string from `movie_info_sample`, and `mpaa_rating` is just the rating itself (i.e. `R`, `PG-13`, `PG`, etc) for this movie. In other words, your output table should look like this:\n",
    "\n",
    "| info | mpaa_rating |\n",
    "| :--- | :--- |\n",
    "| SOME_STRING_HERE | SOME_STRING_HERE |\n",
    "\n",
    "\n",
    "**Before you get started**:\n",
    "* Explore the `movie_info_sample` tuples corresponding to the MPAA rating by using metacommands in the terminal. The `info` field is a little longer than just the rating. It also includes an explanation for why that movie received its rating. \n",
    "* You will need to extract a substring from the `info` column of `movie_info_sample`; you can use the [string functions](https://www.postgresql.org/docs/current/functions-string.html) in PostgreSQL to do it. There are many possible solutions.\n",
    "    * One possible solution is to use the `SUBSTRING` function along with regex. If you use this approach, [this section on regex](https://www.postgresql.org/docs/current/functions-matching.html#FUNCTIONS-POSIX-REGEXP) may be particularly useful.\n",
    "    * Also remember that `SUBSTRING` is 1-indexed, not 0-indexed. With your chosen approach, ensure that you are returning a single element, and not an array! You may also index into an array.\n",
    "    * [regex101.com](https://regex101.com) may additionally be helpful in crafting your regular expressions.\n",
    "* You may use `mpaa_rating_id` (from question 2a) and `movie_id_2b` (from the code cell above) directly in the rest of the questions using Python variable substitution (i.e., using double curly braces like in the code cell above). See the `JupySQL` documentation for more details."
   ]
  },
  {
   "cell_type": "code",
   "execution_count": 519,
   "metadata": {},
   "outputs": [
    {
     "data": {
      "text/html": [
       "<span style=\"None\">Running query in &#x27;postgresql://jovyan@127.0.0.1:5432/imdb&#x27;</span>"
      ],
      "text/plain": [
       "Running query in 'postgresql://jovyan@127.0.0.1:5432/imdb'"
      ]
     },
     "metadata": {},
     "output_type": "display_data"
    },
    {
     "data": {
      "text/html": [
       "<span style=\"color: green\">13011 rows affected.</span>"
      ],
      "text/plain": [
       "13011 rows affected."
      ]
     },
     "metadata": {},
     "output_type": "display_data"
    },
    {
     "data": {
      "text/html": [
       "<table>\n",
       "    <thead>\n",
       "        <tr>\n",
       "            <th>info</th>\n",
       "        </tr>\n",
       "    </thead>\n",
       "    <tbody>\n",
       "        <tr>\n",
       "            <td>Rated R for crude and sexual content, pervasive language, drug material, teen drinking and some violence</td>\n",
       "        </tr>\n",
       "        <tr>\n",
       "            <td>Rated R for violent content and pervasive language</td>\n",
       "        </tr>\n",
       "        <tr>\n",
       "            <td>Rated R for violent material including a sexual assault, and for some language</td>\n",
       "        </tr>\n",
       "        <tr>\n",
       "            <td>Rated PG-13 for some sexual material, including brief nudity</td>\n",
       "        </tr>\n",
       "        <tr>\n",
       "            <td>Rated PG-13 for violence, sexual content and language (re-rating on appeal)</td>\n",
       "        </tr>\n",
       "        <tr>\n",
       "            <td>Rated PG-13 for brief strong language and some thematic elements</td>\n",
       "        </tr>\n",
       "        <tr>\n",
       "            <td>Rated R for some strong sexuality, language and some violence</td>\n",
       "        </tr>\n",
       "        <tr>\n",
       "            <td>Rated R for some disturbing behavior, sexuality, nudity and some language</td>\n",
       "        </tr>\n",
       "        <tr>\n",
       "            <td>Rated PG for rude humor, action sequences, and language including innuendo</td>\n",
       "        </tr>\n",
       "        <tr>\n",
       "            <td>Rated R for language and some violence</td>\n",
       "        </tr>\n",
       "    </tbody>\n",
       "</table>\n",
       "<span style=\"font-style:italic;text-align:center;\">Truncated to <a href=\"https://jupysql.ploomber.io/en/latest/api/configuration.html#displaylimit\">displaylimit</a> of 10.</span>"
      ],
      "text/plain": [
       "+----------------------------------------------------------------------------------------------------------+\n",
       "|                                                   info                                                   |\n",
       "+----------------------------------------------------------------------------------------------------------+\n",
       "| Rated R for crude and sexual content, pervasive language, drug material, teen drinking and some violence |\n",
       "|                            Rated R for violent content and pervasive language                            |\n",
       "|              Rated R for violent material including a sexual assault, and for some language              |\n",
       "|                       Rated PG-13 for some sexual material, including brief nudity                       |\n",
       "|               Rated PG-13 for violence, sexual content and language (re-rating on appeal)                |\n",
       "|                     Rated PG-13 for brief strong language and some thematic elements                     |\n",
       "|                      Rated R for some strong sexuality, language and some violence                       |\n",
       "|                Rated R for some disturbing behavior, sexuality, nudity and some language                 |\n",
       "|                Rated PG for rude humor, action sequences, and language including innuendo                |\n",
       "|                                  Rated R for language and some violence                                  |\n",
       "+----------------------------------------------------------------------------------------------------------+\n",
       "Truncated to displaylimit of 10."
      ]
     },
     "execution_count": 519,
     "metadata": {},
     "output_type": "execute_result"
    }
   ],
   "source": [
    "%%sql \n",
    "SELECT info FROM movie_info_sample \n",
    "WHERE info_type_id = 97;"
   ]
  },
  {
   "cell_type": "code",
   "execution_count": 520,
   "metadata": {
    "tags": []
   },
   "outputs": [
    {
     "data": {
      "text/html": [
       "<span style=\"None\">Running query in &#x27;postgresql://jovyan@127.0.0.1:5432/imdb&#x27;</span>"
      ],
      "text/plain": [
       "Running query in 'postgresql://jovyan@127.0.0.1:5432/imdb'"
      ]
     },
     "metadata": {},
     "output_type": "display_data"
    },
    {
     "data": {
      "text/html": [
       "<span style=\"color: green\">1 rows affected.</span>"
      ],
      "text/plain": [
       "1 rows affected."
      ]
     },
     "metadata": {},
     "output_type": "display_data"
    }
   ],
   "source": [
    "%%sql --save query_2b result_2b << \n",
    "SELECT \n",
    "    info, \n",
    "    TRIM(SPLIT_PART(info, ' ', 2)) AS mpaa_rating\n",
    "FROM \n",
    "    movie_info_sample\n",
    "WHERE \n",
    "    movie_id = 2109683 \n",
    "    AND info_type_id = 97;"
   ]
  },
  {
   "cell_type": "code",
   "execution_count": 521,
   "metadata": {
    "tags": []
   },
   "outputs": [
    {
     "data": {
      "text/html": [
       "<table>\n",
       "    <thead>\n",
       "        <tr>\n",
       "            <th>info</th>\n",
       "            <th>mpaa_rating</th>\n",
       "        </tr>\n",
       "    </thead>\n",
       "    <tbody>\n",
       "        <tr>\n",
       "            <td>Rated PG-13 for sexual content, language and some teen partying</td>\n",
       "            <td>PG-13</td>\n",
       "        </tr>\n",
       "    </tbody>\n",
       "</table>"
      ],
      "text/plain": [
       "+-----------------------------------------------------------------+-------------+\n",
       "|                               info                              | mpaa_rating |\n",
       "+-----------------------------------------------------------------+-------------+\n",
       "| Rated PG-13 for sexual content, language and some teen partying |    PG-13    |\n",
       "+-----------------------------------------------------------------+-------------+"
      ]
     },
     "execution_count": 521,
     "metadata": {},
     "output_type": "execute_result"
    }
   ],
   "source": [
    "# Do not delete/edit this cell!\n",
    "# You must run this cell before running the autograder.\n",
    "query_2b = %sqlcmd snippets query_2b\n",
    "grading_util.save_results(\"result_2b\", query_2b, result_2b)\n",
    "result_2b"
   ]
  },
  {
   "cell_type": "code",
   "execution_count": 522,
   "metadata": {
    "deletable": false,
    "editable": false
   },
   "outputs": [
    {
     "data": {
      "text/html": [
       "<p><strong><pre style='display: inline;'>q2b</pre></strong> passed! 🍀</p>"
      ],
      "text/plain": [
       "q2b results: All test cases passed!"
      ]
     },
     "execution_count": 522,
     "metadata": {},
     "output_type": "execute_result"
    }
   ],
   "source": [
    "grader.check(\"q2b\")"
   ]
  },
  {
   "cell_type": "markdown",
   "metadata": {
    "deletable": false,
    "editable": false
   },
   "source": [
    "You may use `mpaa_rating_id` directly in the rest of the questions using python variable substitution.\n",
    "\n",
    "<br><br>\n",
    "\n",
    "---\n",
    "\n",
    "## Question 2c\n",
    "In the next cell,\n",
    "1. Construct a view named `movie_ratings` containing one row for each movie, which has columns `(movie_id, title, info, mpaa_rating)`, where `info` is the full MPAA rating string from `movie_info_sample`, and `mpaa_rating` is just the rating itself (i.e. `R`, `PG-13`, `PG`, etc).\n",
    "    * In other words, extend `movie_sample` with the MPAA rating attributes that you found in the previous question part, but this time for all movies instead of just one movie.      \n",
    "2. Following the view definition, also write a `SELECT` query to return the **first 20 rows** of the view, ordered by ascending `movie_id`. Your table header should look like this:\n",
    "\n",
    "| movie_id | title | info | mpaa_rating |\n",
    "| -------- | ----- | ---- | ----------- |\n",
    "\n",
    "**Note:**\n",
    "* There will be some edge cases when the `info` column doesn't follow the pattern that you used in question 2b. Do not worry as long as you extract most of the ratings!"
   ]
  },
  {
   "cell_type": "code",
   "execution_count": 523,
   "metadata": {
    "tags": []
   },
   "outputs": [
    {
     "data": {
      "text/html": [
       "<span style=\"None\">Running query in &#x27;postgresql://jovyan@127.0.0.1:5432/imdb&#x27;</span>"
      ],
      "text/plain": [
       "Running query in 'postgresql://jovyan@127.0.0.1:5432/imdb'"
      ]
     },
     "metadata": {},
     "output_type": "display_data"
    },
    {
     "data": {
      "text/html": [
       "<span style=\"color: green\">20 rows affected.</span>"
      ],
      "text/plain": [
       "20 rows affected."
      ]
     },
     "metadata": {},
     "output_type": "display_data"
    }
   ],
   "source": [
    "%%sql --save query_2c result_2c << \n",
    "DROP VIEW IF EXISTS movie_ratings;\n",
    "CREATE VIEW movie_ratings AS\n",
    "SELECT \n",
    "    ms.id AS movie_id, \n",
    "    ms.title, \n",
    "    mi.info, \n",
    "    TRIM(SPLIT_PART(mi.info, ' ', 2)) AS mpaa_rating\n",
    "FROM \n",
    "    movie_sample ms\n",
    "JOIN \n",
    "    movie_info_sample mi\n",
    "ON \n",
    "    ms.id = mi.movie_id\n",
    "WHERE \n",
    "    mi.info_type_id = 97;\n",
    "SELECT * FROM movie_ratings ORDER BY movie_id LIMIT 20;"
   ]
  },
  {
   "cell_type": "code",
   "execution_count": 524,
   "metadata": {
    "tags": []
   },
   "outputs": [
    {
     "data": {
      "text/html": [
       "<table>\n",
       "    <thead>\n",
       "        <tr>\n",
       "            <th>movie_id</th>\n",
       "            <th>title</th>\n",
       "            <th>info</th>\n",
       "            <th>mpaa_rating</th>\n",
       "        </tr>\n",
       "    </thead>\n",
       "    <tbody>\n",
       "        <tr>\n",
       "            <td>1632926</td>\n",
       "            <td>$5 a Day</td>\n",
       "            <td>Rated PG-13 for sexual content, brief nudity and language</td>\n",
       "            <td>PG-13</td>\n",
       "        </tr>\n",
       "        <tr>\n",
       "            <td>1632941</td>\n",
       "            <td>$9.99</td>\n",
       "            <td>Rated R for language and brief sexuality and nudity</td>\n",
       "            <td>R</td>\n",
       "        </tr>\n",
       "        <tr>\n",
       "            <td>1632956</td>\n",
       "            <td>$windle</td>\n",
       "            <td>Rated R for some violence and brief sexuality/nudity</td>\n",
       "            <td>R</td>\n",
       "        </tr>\n",
       "        <tr>\n",
       "            <td>1633013</td>\n",
       "            <td>'A' gai wak</td>\n",
       "            <td>Rated PG-13 for violence</td>\n",
       "            <td>PG-13</td>\n",
       "        </tr>\n",
       "        <tr>\n",
       "            <td>1633014</td>\n",
       "            <td>'A' gai wak juk jap</td>\n",
       "            <td>Rated PG-13 for violence</td>\n",
       "            <td>PG-13</td>\n",
       "        </tr>\n",
       "        <tr>\n",
       "            <td>1633461</td>\n",
       "            <td>'R Xmas</td>\n",
       "            <td>Rated R for strong language, drug content and some violence</td>\n",
       "            <td>R</td>\n",
       "        </tr>\n",
       "        <tr>\n",
       "            <td>1633618</td>\n",
       "            <td>'Til There Was You</td>\n",
       "            <td>Rated PG-13 for sensuality, language and drug references</td>\n",
       "            <td>PG-13</td>\n",
       "        </tr>\n",
       "        <tr>\n",
       "            <td>1633729</td>\n",
       "            <td>(500) Days of Summer</td>\n",
       "            <td>Rated PG-13 for sexual material and language</td>\n",
       "            <td>PG-13</td>\n",
       "        </tr>\n",
       "        <tr>\n",
       "            <td>1633856</td>\n",
       "            <td>(Untitled)</td>\n",
       "            <td>Rated R for language and nude images</td>\n",
       "            <td>R</td>\n",
       "        </tr>\n",
       "        <tr>\n",
       "            <td>1634282</td>\n",
       "            <td>.45</td>\n",
       "            <td>Rated R for pervasive strong language including graphic sexual references, violence, sexuality and some drug use</td>\n",
       "            <td>R</td>\n",
       "        </tr>\n",
       "    </tbody>\n",
       "</table>"
      ],
      "text/plain": [
       "+----------+----------------------+------------------------------------------------------------------------------------------------------------------+-------------+\n",
       "| movie_id |        title         |                                                       info                                                       | mpaa_rating |\n",
       "+----------+----------------------+------------------------------------------------------------------------------------------------------------------+-------------+\n",
       "| 1632926  |       $5 a Day       |                            Rated PG-13 for sexual content, brief nudity and language                             |    PG-13    |\n",
       "| 1632941  |        $9.99         |                               Rated R for language and brief sexuality and nudity                                |      R      |\n",
       "| 1632956  |       $windle        |                               Rated R for some violence and brief sexuality/nudity                               |      R      |\n",
       "| 1633013  |     'A' gai wak      |                                             Rated PG-13 for violence                                             |    PG-13    |\n",
       "| 1633014  | 'A' gai wak juk jap  |                                             Rated PG-13 for violence                                             |    PG-13    |\n",
       "| 1633461  |       'R Xmas        |                           Rated R for strong language, drug content and some violence                            |      R      |\n",
       "| 1633618  |  'Til There Was You  |                             Rated PG-13 for sensuality, language and drug references                             |    PG-13    |\n",
       "| 1633729  | (500) Days of Summer |                                   Rated PG-13 for sexual material and language                                   |    PG-13    |\n",
       "| 1633856  |      (Untitled)      |                                       Rated R for language and nude images                                       |      R      |\n",
       "| 1634282  |         .45          | Rated R for pervasive strong language including graphic sexual references, violence, sexuality and some drug use |      R      |\n",
       "+----------+----------------------+------------------------------------------------------------------------------------------------------------------+-------------+"
      ]
     },
     "execution_count": 524,
     "metadata": {},
     "output_type": "execute_result"
    }
   ],
   "source": [
    "# Do not delete/edit this cell!\n",
    "# You must run this cell before running the autograder.\n",
    "query_2c = %sqlcmd snippets query_2c\n",
    "grading_util.save_results(\"result_2c\", query_2c, result_2c)\n",
    "result_2c"
   ]
  },
  {
   "cell_type": "code",
   "execution_count": 525,
   "metadata": {
    "deletable": false,
    "editable": false
   },
   "outputs": [
    {
     "data": {
      "text/html": [
       "<p><strong><pre style='display: inline;'>q2c</pre></strong> passed! 💯</p>"
      ],
      "text/plain": [
       "q2c results: All test cases passed!"
      ]
     },
     "execution_count": 525,
     "metadata": {},
     "output_type": "execute_result"
    }
   ],
   "source": [
    "grader.check(\"q2c\")"
   ]
  },
  {
   "cell_type": "markdown",
   "metadata": {
    "deletable": false,
    "editable": false
   },
   "source": [
    "<br/><br/><br/>\n",
    "\n",
    "<hr style=\"border: 1px solid #fdb515;\" />\n",
    "\n",
    "# Question 3: Movie Moola\n",
    "One measure of a movie's success is how much money it makes. If we look at our `info_type` table, we have information about the film's gross earnings and the budget for a film. It would be nice to know how much money a film made using the profit formula:\n",
    "$$profit = grossearnings - moneyspent$$\n",
    "\n",
    "We start by taking a look at the gross earnings info type (called `gross` in the `info_type` table), with `info_type_id = 107`."
   ]
  },
  {
   "cell_type": "code",
   "execution_count": 526,
   "metadata": {
    "deletable": false,
    "editable": false
   },
   "outputs": [
    {
     "data": {
      "text/html": [
       "<span style=\"None\">Running query in &#x27;postgresql://jovyan@127.0.0.1:5432/imdb&#x27;</span>"
      ],
      "text/plain": [
       "Running query in 'postgresql://jovyan@127.0.0.1:5432/imdb'"
      ]
     },
     "metadata": {},
     "output_type": "display_data"
    },
    {
     "data": {
      "text/html": [
       "<span style=\"color: green\">10 rows affected.</span>"
      ],
      "text/plain": [
       "10 rows affected."
      ]
     },
     "metadata": {},
     "output_type": "display_data"
    },
    {
     "data": {
      "text/html": [
       "<table>\n",
       "    <thead>\n",
       "        <tr>\n",
       "            <th>id</th>\n",
       "            <th>movie_id</th>\n",
       "            <th>info_type_id</th>\n",
       "            <th>info</th>\n",
       "        </tr>\n",
       "    </thead>\n",
       "    <tbody>\n",
       "        <tr>\n",
       "            <td>1464348</td>\n",
       "            <td>2281091</td>\n",
       "            <td>107</td>\n",
       "            <td>INR 23,373,000 (India) (25 February 2005)</td>\n",
       "        </tr>\n",
       "        <tr>\n",
       "            <td>1464349</td>\n",
       "            <td>2281091</td>\n",
       "            <td>107</td>\n",
       "            <td>INR 19,207,000 (India) (18 February 2005)</td>\n",
       "        </tr>\n",
       "        <tr>\n",
       "            <td>1464374</td>\n",
       "            <td>1766950</td>\n",
       "            <td>107</td>\n",
       "            <td>HKD 826,364 (Hong Kong) (11 December 1975)</td>\n",
       "        </tr>\n",
       "        <tr>\n",
       "            <td>1464375</td>\n",
       "            <td>1769023</td>\n",
       "            <td>107</td>\n",
       "            <td>HKD 3,148,549 (Hong Kong) (19 November 1980)</td>\n",
       "        </tr>\n",
       "        <tr>\n",
       "            <td>1464378</td>\n",
       "            <td>1799099</td>\n",
       "            <td>107</td>\n",
       "            <td>HKD 6,493,694 (Hong Kong) (22 December 1981)</td>\n",
       "        </tr>\n",
       "        <tr>\n",
       "            <td>1464383</td>\n",
       "            <td>1847670</td>\n",
       "            <td>107</td>\n",
       "            <td>$21,438 (USA) (9 August 2009)</td>\n",
       "        </tr>\n",
       "        <tr>\n",
       "            <td>1464384</td>\n",
       "            <td>1847670</td>\n",
       "            <td>107</td>\n",
       "            <td>$10,266 (USA) (2 August 2009)</td>\n",
       "        </tr>\n",
       "        <tr>\n",
       "            <td>1464396</td>\n",
       "            <td>1916002</td>\n",
       "            <td>107</td>\n",
       "            <td>$5,932 (USA) (27 November 2005)</td>\n",
       "        </tr>\n",
       "        <tr>\n",
       "            <td>1464397</td>\n",
       "            <td>1916002</td>\n",
       "            <td>107</td>\n",
       "            <td>$4,206 (USA) (20 November 2005)</td>\n",
       "        </tr>\n",
       "        <tr>\n",
       "            <td>1464398</td>\n",
       "            <td>1916002</td>\n",
       "            <td>107</td>\n",
       "            <td>$2,939 (USA) (23 October 2005)</td>\n",
       "        </tr>\n",
       "    </tbody>\n",
       "</table>\n",
       "<span style=\"font-style:italic;text-align:center;\">Truncated to <a href=\"https://jupysql.ploomber.io/en/latest/api/configuration.html#displaylimit\">displaylimit</a> of 10.</span>"
      ],
      "text/plain": [
       "+---------+----------+--------------+----------------------------------------------+\n",
       "|    id   | movie_id | info_type_id |                     info                     |\n",
       "+---------+----------+--------------+----------------------------------------------+\n",
       "| 1464348 | 2281091  |     107      |  INR 23,373,000 (India) (25 February 2005)   |\n",
       "| 1464349 | 2281091  |     107      |  INR 19,207,000 (India) (18 February 2005)   |\n",
       "| 1464374 | 1766950  |     107      |  HKD 826,364 (Hong Kong) (11 December 1975)  |\n",
       "| 1464375 | 1769023  |     107      | HKD 3,148,549 (Hong Kong) (19 November 1980) |\n",
       "| 1464378 | 1799099  |     107      | HKD 6,493,694 (Hong Kong) (22 December 1981) |\n",
       "| 1464383 | 1847670  |     107      |        $21,438 (USA) (9 August 2009)         |\n",
       "| 1464384 | 1847670  |     107      |        $10,266 (USA) (2 August 2009)         |\n",
       "| 1464396 | 1916002  |     107      |       $5,932 (USA) (27 November 2005)        |\n",
       "| 1464397 | 1916002  |     107      |       $4,206 (USA) (20 November 2005)        |\n",
       "| 1464398 | 1916002  |     107      |        $2,939 (USA) (23 October 2005)        |\n",
       "+---------+----------+--------------+----------------------------------------------+\n",
       "Truncated to displaylimit of 10."
      ]
     },
     "execution_count": 526,
     "metadata": {},
     "output_type": "execute_result"
    }
   ],
   "source": [
    "%%sql\n",
    "SELECT * \n",
    "FROM movie_info_sample\n",
    "WHERE info_type_id = 107\n",
    "ORDER BY id\n",
    "LIMIT 10 OFFSET 100000;"
   ]
  },
  {
   "cell_type": "markdown",
   "metadata": {
    "deletable": false,
    "editable": false
   },
   "source": [
    "There are a lot of things to notice here. First of all, the values in the `info` attribute are **strings** with not only the **earnings**, but also the **country** and the **month the earnings are cummulatively summed until**.\n",
    "\n",
    "Additionally, the info values are **not all in the same currency**! On top of that, it appears as if **some** of the gross earnings (even for those in USD) are **from worldwide sales**, while **others only count sales within the USA**.\n",
    "\n",
    "For consistency, let's only use movies with **gross earnings counted in the USA** and that are **in US Dollars ($)**. "
   ]
  },
  {
   "cell_type": "markdown",
   "metadata": {
    "deletable": false,
    "editable": false
   },
   "source": [
    "<br><br>\n",
    "\n",
    "---\n",
    "\n",
    "## Question 3a: Earnings\n",
    "We want the numerical part of the `info` column and the **MAXIMUM earnings value** for a particular film. \n",
    "\n",
    "In the next cell,\n",
    "- Construct a view named `movie_gross` containing **one row for each movie**, which has columns `(gross, movie_id, title)`, where `gross` is the numeric dollar amount of the **MAXIMUM earnings value** extracted as a float.\n",
    "- To take a look at our cleaned data that we just created in our `movie_gross` view, write a `SELECT` query to display the **top 10 highest grossing films** from `movie_gross`. This query should occur in the same cell and should **ONLY** list your limited top 10 output. Do not use `GROUP BY` or other aggregate functions outside of your view. Your column header should look like this:\n",
    "\n",
    "| gross | movie_id | title |\n",
    "| ----- | -------- | ----- |\n",
    "\n",
    "**Hints:** \n",
    "- The way we extracted the MPAA rating is very similar to how we want to extract the substring containing the number and isolate the numeric dollar amount as a string. There are multiple ways of doing this.\n",
    "   - Look at the [course notes for `REGEXP_REPLACE`](https://data101.org/notes/1-SQL/strings.html#regexp-replace), specifically the `'g'` flag.\n",
    "   - Look at the [course notes for `SUBSTRING`](https://data101.org/notes/1-SQL/strings.html)\n",
    "- Again, as a reminder: we will only be using movies with gross earnings counted in the **USA** and that are in US Dollars (**$**). Ensure that your `info` string contains both of these markers. The `info` string contains reported gross earnings as `(non-USA)` AND `(USA)`, so please check that you are not adding extraneous values.\n",
    "    - Look at the [course notes for the `LIKE` keyword](https://data101.org/notes/1-SQL/strings.html#like-not-like).\n",
    "- Be careful when trying to match IDs from one relation to another relation. Take a look at the schema of the relations you are working with, whether in terminal or by referring to the description at the top of the notebook. Ensure both fields reference the same entity. For example, `movie_info_sample.id` does **NOT** refer to the same entity as `movie_sample.id`.\n",
    "- Movies may have the same name! What attribute(s) to uniquely identifies a movie? Check the schema of `movie_sample`\n",
    "- The staff solution found it helpful to make a CTE to create the view. You may make as many CTEs as you find necessary.\n",
    "\n",
    "<div class=\"alert alert-block alert-danger\">\n",
    "While it is fine to add CTEs, do <b>NOT</b> create additional <em>views</em> as this may take up significant space in memory. If your kernel is crashing repeatedly, check that you are not creating any views in memory.\n",
    "</div>"
   ]
  },
  {
   "cell_type": "code",
   "execution_count": 527,
   "metadata": {
    "tags": []
   },
   "outputs": [
    {
     "data": {
      "text/html": [
       "<span style=\"None\">Running query in &#x27;postgresql://jovyan@127.0.0.1:5432/imdb&#x27;</span>"
      ],
      "text/plain": [
       "Running query in 'postgresql://jovyan@127.0.0.1:5432/imdb'"
      ]
     },
     "metadata": {},
     "output_type": "display_data"
    },
    {
     "data": {
      "text/html": [
       "<span style=\"color: green\">10 rows affected.</span>"
      ],
      "text/plain": [
       "10 rows affected."
      ]
     },
     "metadata": {},
     "output_type": "display_data"
    }
   ],
   "source": [
    "%%sql --save query_3a result_3a <<\n",
    "\n",
    "DROP VIEW IF EXISTS movie_gross;\n",
    "CREATE VIEW movie_gross AS\n",
    "WITH extracted_gross AS (\n",
    "    SELECT \n",
    "        mis.movie_id,\n",
    "        m.title,\n",
    "        CAST(\n",
    "            REPLACE(\n",
    "                REGEXP_REPLACE(info, '.*\\$(\\d{1,3}(?:,\\d{3})*).*', '\\1', 'g'), \n",
    "                ',', ''\n",
    "            ) AS FLOAT\n",
    "        ) AS gross\n",
    "    FROM movie_info_sample mis\n",
    "    JOIN movie_sample m ON mis.movie_id = m.id\n",
    "    WHERE mis.info_type_id = 107 \n",
    "    AND mis.info LIKE '%(USA)%'  \n",
    "    AND mis.info LIKE '$%'       \n",
    ")\n",
    "SELECT \n",
    "    movie_id, \n",
    "    title, \n",
    "    MAX(gross) AS gross \n",
    "FROM extracted_gross\n",
    "GROUP BY movie_id, title;\n",
    "\n",
    "SELECT gross, movie_id, title\n",
    "FROM movie_gross\n",
    "ORDER BY gross DESC\n",
    "LIMIT 10;"
   ]
  },
  {
   "cell_type": "code",
   "execution_count": 528,
   "metadata": {
    "tags": []
   },
   "outputs": [
    {
     "data": {
      "text/html": [
       "<table>\n",
       "    <thead>\n",
       "        <tr>\n",
       "            <th>gross</th>\n",
       "            <th>movie_id</th>\n",
       "            <th>title</th>\n",
       "        </tr>\n",
       "    </thead>\n",
       "    <tbody>\n",
       "        <tr>\n",
       "            <td>760507625.0</td>\n",
       "            <td>1704289</td>\n",
       "            <td>Avatar</td>\n",
       "        </tr>\n",
       "        <tr>\n",
       "            <td>658672302.0</td>\n",
       "            <td>2438179</td>\n",
       "            <td>Titanic</td>\n",
       "        </tr>\n",
       "        <tr>\n",
       "            <td>623357910.0</td>\n",
       "            <td>2346436</td>\n",
       "            <td>The Avengers</td>\n",
       "        </tr>\n",
       "        <tr>\n",
       "            <td>534858444.0</td>\n",
       "            <td>2360583</td>\n",
       "            <td>The Dark Knight</td>\n",
       "        </tr>\n",
       "        <tr>\n",
       "            <td>460935665.0</td>\n",
       "            <td>2310522</td>\n",
       "            <td>Star Wars</td>\n",
       "        </tr>\n",
       "        <tr>\n",
       "            <td>448139099.0</td>\n",
       "            <td>2360588</td>\n",
       "            <td>The Dark Knight Rises</td>\n",
       "        </tr>\n",
       "        <tr>\n",
       "            <td>436471036.0</td>\n",
       "            <td>2285018</td>\n",
       "            <td>Shrek 2</td>\n",
       "        </tr>\n",
       "        <tr>\n",
       "            <td>435110554.0</td>\n",
       "            <td>1851357</td>\n",
       "            <td>E.T. the Extra-Terrestrial</td>\n",
       "        </tr>\n",
       "        <tr>\n",
       "            <td>431065444.0</td>\n",
       "            <td>2310573</td>\n",
       "            <td>Star Wars: Episode I - The Phantom Menace</td>\n",
       "        </tr>\n",
       "        <tr>\n",
       "            <td>423315812.0</td>\n",
       "            <td>2204345</td>\n",
       "            <td>Pirates of the Caribbean: Dead Man's Chest</td>\n",
       "        </tr>\n",
       "    </tbody>\n",
       "</table>"
      ],
      "text/plain": [
       "+-------------+----------+--------------------------------------------+\n",
       "|    gross    | movie_id |                   title                    |\n",
       "+-------------+----------+--------------------------------------------+\n",
       "| 760507625.0 | 1704289  |                   Avatar                   |\n",
       "| 658672302.0 | 2438179  |                  Titanic                   |\n",
       "| 623357910.0 | 2346436  |                The Avengers                |\n",
       "| 534858444.0 | 2360583  |              The Dark Knight               |\n",
       "| 460935665.0 | 2310522  |                 Star Wars                  |\n",
       "| 448139099.0 | 2360588  |           The Dark Knight Rises            |\n",
       "| 436471036.0 | 2285018  |                  Shrek 2                   |\n",
       "| 435110554.0 | 1851357  |         E.T. the Extra-Terrestrial         |\n",
       "| 431065444.0 | 2310573  | Star Wars: Episode I - The Phantom Menace  |\n",
       "| 423315812.0 | 2204345  | Pirates of the Caribbean: Dead Man's Chest |\n",
       "+-------------+----------+--------------------------------------------+"
      ]
     },
     "execution_count": 528,
     "metadata": {},
     "output_type": "execute_result"
    }
   ],
   "source": [
    "# Do not delete/edit this cell!\n",
    "# You must run this cell before running the autograder.\n",
    "query_3a = %sqlcmd snippets query_3a\n",
    "grading_util.save_results(\"result_3a\", query_3a, result_3a)\n",
    "result_3a"
   ]
  },
  {
   "cell_type": "code",
   "execution_count": 529,
   "metadata": {
    "deletable": false,
    "editable": false
   },
   "outputs": [
    {
     "data": {
      "text/html": [
       "<p><strong><pre style='display: inline;'>q3a</pre></strong> passed! 🌈</p>"
      ],
      "text/plain": [
       "q3a results: All test cases passed!"
      ]
     },
     "execution_count": 529,
     "metadata": {},
     "output_type": "execute_result"
    }
   ],
   "source": [
    "grader.check(\"q3a\")"
   ]
  },
  {
   "cell_type": "markdown",
   "metadata": {},
   "source": [
    "<br/>\n",
    "\n",
    "---\n",
    "\n",
    "## Tutorial: Budget\n",
    "We will now look at the `budget` info type, with `info_type_id = 105`."
   ]
  },
  {
   "cell_type": "code",
   "execution_count": 530,
   "metadata": {
    "scrolled": true
   },
   "outputs": [
    {
     "data": {
      "text/html": [
       "<span style=\"None\">Running query in &#x27;postgresql://jovyan@127.0.0.1:5432/imdb&#x27;</span>"
      ],
      "text/plain": [
       "Running query in 'postgresql://jovyan@127.0.0.1:5432/imdb'"
      ]
     },
     "metadata": {},
     "output_type": "display_data"
    },
    {
     "data": {
      "text/html": [
       "<span style=\"color: green\">10 rows affected.</span>"
      ],
      "text/plain": [
       "10 rows affected."
      ]
     },
     "metadata": {},
     "output_type": "display_data"
    },
    {
     "data": {
      "text/html": [
       "<table>\n",
       "    <thead>\n",
       "        <tr>\n",
       "            <th>id</th>\n",
       "            <th>movie_id</th>\n",
       "            <th>info_type_id</th>\n",
       "            <th>info</th>\n",
       "        </tr>\n",
       "    </thead>\n",
       "    <tbody>\n",
       "        <tr>\n",
       "            <td>1261074</td>\n",
       "            <td>1983149</td>\n",
       "            <td>105</td>\n",
       "            <td>$75,000,000</td>\n",
       "        </tr>\n",
       "        <tr>\n",
       "            <td>1261110</td>\n",
       "            <td>1983269</td>\n",
       "            <td>105</td>\n",
       "            <td>INR 180,000,000</td>\n",
       "        </tr>\n",
       "        <tr>\n",
       "            <td>1261160</td>\n",
       "            <td>2381188</td>\n",
       "            <td>105</td>\n",
       "            <td>$40,000,000</td>\n",
       "        </tr>\n",
       "        <tr>\n",
       "            <td>1261170</td>\n",
       "            <td>1991083</td>\n",
       "            <td>105</td>\n",
       "            <td>FIM 9,219,499</td>\n",
       "        </tr>\n",
       "        <tr>\n",
       "            <td>1261210</td>\n",
       "            <td>1993907</td>\n",
       "            <td>105</td>\n",
       "            <td>$45,000,000</td>\n",
       "        </tr>\n",
       "        <tr>\n",
       "            <td>1261247</td>\n",
       "            <td>1995787</td>\n",
       "            <td>105</td>\n",
       "            <td>$38,000,000</td>\n",
       "        </tr>\n",
       "        <tr>\n",
       "            <td>1261308</td>\n",
       "            <td>1999081</td>\n",
       "            <td>105</td>\n",
       "            <td>$50,000,000</td>\n",
       "        </tr>\n",
       "        <tr>\n",
       "            <td>1261324</td>\n",
       "            <td>1999196</td>\n",
       "            <td>105</td>\n",
       "            <td>SEK 40,000,000</td>\n",
       "        </tr>\n",
       "        <tr>\n",
       "            <td>1261375</td>\n",
       "            <td>2001114</td>\n",
       "            <td>105</td>\n",
       "            <td>$60,000,000</td>\n",
       "        </tr>\n",
       "        <tr>\n",
       "            <td>1261396</td>\n",
       "            <td>2001989</td>\n",
       "            <td>105</td>\n",
       "            <td>$13,000,000</td>\n",
       "        </tr>\n",
       "    </tbody>\n",
       "</table>\n",
       "<span style=\"font-style:italic;text-align:center;\">Truncated to <a href=\"https://jupysql.ploomber.io/en/latest/api/configuration.html#displaylimit\">displaylimit</a> of 10.</span>"
      ],
      "text/plain": [
       "+---------+----------+--------------+-----------------+\n",
       "|    id   | movie_id | info_type_id |       info      |\n",
       "+---------+----------+--------------+-----------------+\n",
       "| 1261074 | 1983149  |     105      |   $75,000,000   |\n",
       "| 1261110 | 1983269  |     105      | INR 180,000,000 |\n",
       "| 1261160 | 2381188  |     105      |   $40,000,000   |\n",
       "| 1261170 | 1991083  |     105      |  FIM 9,219,499  |\n",
       "| 1261210 | 1993907  |     105      |   $45,000,000   |\n",
       "| 1261247 | 1995787  |     105      |   $38,000,000   |\n",
       "| 1261308 | 1999081  |     105      |   $50,000,000   |\n",
       "| 1261324 | 1999196  |     105      |  SEK 40,000,000 |\n",
       "| 1261375 | 2001114  |     105      |   $60,000,000   |\n",
       "| 1261396 | 2001989  |     105      |   $13,000,000   |\n",
       "+---------+----------+--------------+-----------------+\n",
       "Truncated to displaylimit of 10."
      ]
     },
     "execution_count": 530,
     "metadata": {},
     "output_type": "execute_result"
    }
   ],
   "source": [
    "%%sql\n",
    "SELECT * \n",
    "FROM movie_info_sample\n",
    "WHERE info_type_id = 105\n",
    "ORDER BY id\n",
    "LIMIT 10 OFFSET 5000;"
   ]
  },
  {
   "cell_type": "markdown",
   "metadata": {},
   "source": [
    "Similar to when we examined the gross info, we see a lot of non-US dollar currencies. For consistency, let's only use movies **with a budget in US dollars.**"
   ]
  },
  {
   "cell_type": "markdown",
   "metadata": {
    "deletable": false,
    "editable": false
   },
   "source": [
    "## Question 3b:"
   ]
  },
  {
   "cell_type": "markdown",
   "metadata": {
    "deletable": false,
    "editable": false
   },
   "source": [
    "Now, we want something similar for the budget of the film, so that we can perform the subtraction of `gross` and `budget`. We want the numerical part of the `info` column and the **MAXIMUM budget value** for a particular film (as you can verify, some movies have more than one budget). \n",
    "\n",
    "In the next cell,\n",
    "- Construct a view named `movie_budget` containing one row for each movie, which has `(budget, movie_id, title)`, where `budget` is the numeric dollar amount extracted as a float.\n",
    "- To take a look at our cleaned data, write a `SELECT` query to display the **top 10 highest budget films** from `movie_budget`. When multiple films have the same budget, break ties by `movie_id` (ascending). Your column header should look like this:\n",
    "\n",
    "| budget | movie_id | title |\n",
    "| ------ | -------- | ----- |\n",
    "\n",
    "**Hint:** The query here should be quite similar to Question 3a. Make sure to break ties properly!"
   ]
  },
  {
   "cell_type": "code",
   "execution_count": 531,
   "metadata": {
    "tags": []
   },
   "outputs": [
    {
     "data": {
      "text/html": [
       "<span style=\"None\">Running query in &#x27;postgresql://jovyan@127.0.0.1:5432/imdb&#x27;</span>"
      ],
      "text/plain": [
       "Running query in 'postgresql://jovyan@127.0.0.1:5432/imdb'"
      ]
     },
     "metadata": {},
     "output_type": "display_data"
    },
    {
     "data": {
      "text/html": [
       "<span style=\"color: green\">10 rows affected.</span>"
      ],
      "text/plain": [
       "10 rows affected."
      ]
     },
     "metadata": {},
     "output_type": "display_data"
    }
   ],
   "source": [
    "%%sql --save query_3b result_3b <<\n",
    "DROP VIEW IF EXISTS movie_budget;\n",
    "CREATE VIEW movie_budget AS\n",
    "SELECT \n",
    "    MAX(CAST(\n",
    "        REGEXP_REPLACE(\n",
    "            SPLIT_PART(info, ' ', 1), \n",
    "            '[$,]', '', 'g' \n",
    "        ) AS FLOAT\n",
    "    )) AS budget,\n",
    "    mi.movie_id,\n",
    "    ms.title\n",
    "FROM movie_info_sample mi\n",
    "JOIN movie_sample ms ON mi.movie_id = ms.id\n",
    "WHERE mi.info_type_id = 105\n",
    "AND mi.info LIKE '$%'  \n",
    "GROUP BY mi.movie_id, ms.title;\n",
    "\n",
    "\n",
    "SELECT budget, movie_id, title\n",
    "FROM movie_budget\n",
    "ORDER BY budget DESC, movie_id ASC\n",
    "LIMIT 10;\n"
   ]
  },
  {
   "cell_type": "code",
   "execution_count": 532,
   "metadata": {
    "tags": []
   },
   "outputs": [
    {
     "data": {
      "text/html": [
       "<table>\n",
       "    <thead>\n",
       "        <tr>\n",
       "            <th>budget</th>\n",
       "            <th>movie_id</th>\n",
       "            <th>title</th>\n",
       "        </tr>\n",
       "    </thead>\n",
       "    <tbody>\n",
       "        <tr>\n",
       "            <td>300000000.0</td>\n",
       "            <td>2204343</td>\n",
       "            <td>Pirates of the Caribbean: At World's End</td>\n",
       "        </tr>\n",
       "        <tr>\n",
       "            <td>260000000.0</td>\n",
       "            <td>2332419</td>\n",
       "            <td>Tangled</td>\n",
       "        </tr>\n",
       "        <tr>\n",
       "            <td>258000000.0</td>\n",
       "            <td>2305993</td>\n",
       "            <td>Spider-Man 3</td>\n",
       "        </tr>\n",
       "        <tr>\n",
       "            <td>250000000.0</td>\n",
       "            <td>1938937</td>\n",
       "            <td>Harry Potter and the Half-Blood Prince</td>\n",
       "        </tr>\n",
       "        <tr>\n",
       "            <td>250000000.0</td>\n",
       "            <td>2002374</td>\n",
       "            <td>John Carter</td>\n",
       "        </tr>\n",
       "        <tr>\n",
       "            <td>250000000.0</td>\n",
       "            <td>2204347</td>\n",
       "            <td>Pirates of the Caribbean: On Stranger Tides</td>\n",
       "        </tr>\n",
       "        <tr>\n",
       "            <td>250000000.0</td>\n",
       "            <td>2360588</td>\n",
       "            <td>The Dark Knight Rises</td>\n",
       "        </tr>\n",
       "        <tr>\n",
       "            <td>250000000.0</td>\n",
       "            <td>2387922</td>\n",
       "            <td>The Lone Ranger</td>\n",
       "        </tr>\n",
       "        <tr>\n",
       "            <td>237000000.0</td>\n",
       "            <td>1704289</td>\n",
       "            <td>Avatar</td>\n",
       "        </tr>\n",
       "        <tr>\n",
       "            <td>230000000.0</td>\n",
       "            <td>2344435</td>\n",
       "            <td>The Amazing Spider-Man</td>\n",
       "        </tr>\n",
       "    </tbody>\n",
       "</table>"
      ],
      "text/plain": [
       "+-------------+----------+---------------------------------------------+\n",
       "|    budget   | movie_id |                    title                    |\n",
       "+-------------+----------+---------------------------------------------+\n",
       "| 300000000.0 | 2204343  |   Pirates of the Caribbean: At World's End  |\n",
       "| 260000000.0 | 2332419  |                   Tangled                   |\n",
       "| 258000000.0 | 2305993  |                 Spider-Man 3                |\n",
       "| 250000000.0 | 1938937  |    Harry Potter and the Half-Blood Prince   |\n",
       "| 250000000.0 | 2002374  |                 John Carter                 |\n",
       "| 250000000.0 | 2204347  | Pirates of the Caribbean: On Stranger Tides |\n",
       "| 250000000.0 | 2360588  |            The Dark Knight Rises            |\n",
       "| 250000000.0 | 2387922  |               The Lone Ranger               |\n",
       "| 237000000.0 | 1704289  |                    Avatar                   |\n",
       "| 230000000.0 | 2344435  |            The Amazing Spider-Man           |\n",
       "+-------------+----------+---------------------------------------------+"
      ]
     },
     "execution_count": 532,
     "metadata": {},
     "output_type": "execute_result"
    }
   ],
   "source": [
    "# Do not delete/edit this cell!\n",
    "# You must run this cell before running the autograder.\n",
    "query_3b = %sqlcmd snippets query_3b\n",
    "grading_util.save_results(\"result_3b\", query_3b, result_3b)\n",
    "result_3b"
   ]
  },
  {
   "cell_type": "code",
   "execution_count": 533,
   "metadata": {
    "deletable": false,
    "editable": false
   },
   "outputs": [
    {
     "data": {
      "text/html": [
       "<p><strong><pre style='display: inline;'>q3b</pre></strong> passed! 🙌</p>"
      ],
      "text/plain": [
       "q3b results: All test cases passed!"
      ]
     },
     "execution_count": 533,
     "metadata": {},
     "output_type": "execute_result"
    }
   ],
   "source": [
    "grader.check(\"q3b\")"
   ]
  },
  {
   "cell_type": "markdown",
   "metadata": {
    "deletable": false,
    "editable": false
   },
   "source": [
    "<br><br>\n",
    "\n",
    "---\n",
    "\n",
    "## Question 3c\n",
    "\n",
    "We now have all the parts we need to calculate the profits. Using the `movie_gross` and `movie_budget` views created above, we can now subtract the numeric columns and save the result in another column called `profit`.\n",
    "\n",
    "In the next cell, construct a view named `movie_profit` containing one row for each movie, which has columns `(movie_id, title, profit)`, where `profit` is the result of subtracting that movie's `budget` from `gross`.\n",
    "\n",
    "After the view definition, write a `SELECT` query to return the **first 10 rows** of the view ordered by descending `profit`. This may take a while to execute. Your column header should look like:\n",
    "\n",
    "| movie_id | title | profit |\n",
    "| -------- | ----- | ------ |"
   ]
  },
  {
   "cell_type": "code",
   "execution_count": 534,
   "metadata": {
    "tags": []
   },
   "outputs": [
    {
     "data": {
      "text/html": [
       "<span style=\"None\">Running query in &#x27;postgresql://jovyan@127.0.0.1:5432/imdb&#x27;</span>"
      ],
      "text/plain": [
       "Running query in 'postgresql://jovyan@127.0.0.1:5432/imdb'"
      ]
     },
     "metadata": {},
     "output_type": "display_data"
    },
    {
     "data": {
      "text/html": [
       "<span style=\"color: green\">10 rows affected.</span>"
      ],
      "text/plain": [
       "10 rows affected."
      ]
     },
     "metadata": {},
     "output_type": "display_data"
    }
   ],
   "source": [
    "%%sql --save query_3c result_3c <<\n",
    "\n",
    "DROP VIEW IF EXISTS movie_profit;\n",
    "CREATE VIEW movie_profit AS\n",
    "SELECT \n",
    "    mg.movie_id,\n",
    "    mg.title,\n",
    "    (mg.gross - mb.budget) AS profit\n",
    "FROM movie_gross mg\n",
    "JOIN movie_budget mb ON mg.movie_id = mb.movie_id;\n",
    "SELECT movie_id, title, profit\n",
    "FROM movie_profit\n",
    "ORDER BY profit DESC\n",
    "LIMIT 10;"
   ]
  },
  {
   "cell_type": "code",
   "execution_count": 535,
   "metadata": {
    "tags": []
   },
   "outputs": [
    {
     "data": {
      "text/html": [
       "<table>\n",
       "    <thead>\n",
       "        <tr>\n",
       "            <th>movie_id</th>\n",
       "            <th>title</th>\n",
       "            <th>profit</th>\n",
       "        </tr>\n",
       "    </thead>\n",
       "    <tbody>\n",
       "        <tr>\n",
       "            <td>1704289</td>\n",
       "            <td>Avatar</td>\n",
       "            <td>523507625.0</td>\n",
       "        </tr>\n",
       "        <tr>\n",
       "            <td>2438179</td>\n",
       "            <td>Titanic</td>\n",
       "            <td>458672302.0</td>\n",
       "        </tr>\n",
       "        <tr>\n",
       "            <td>2310522</td>\n",
       "            <td>Star Wars</td>\n",
       "            <td>449935665.0</td>\n",
       "        </tr>\n",
       "        <tr>\n",
       "            <td>1851357</td>\n",
       "            <td>E.T. the Extra-Terrestrial</td>\n",
       "            <td>424610554.0</td>\n",
       "        </tr>\n",
       "        <tr>\n",
       "            <td>2346436</td>\n",
       "            <td>The Avengers</td>\n",
       "            <td>403357910.0</td>\n",
       "        </tr>\n",
       "        <tr>\n",
       "            <td>2360583</td>\n",
       "            <td>The Dark Knight</td>\n",
       "            <td>349858444.0</td>\n",
       "        </tr>\n",
       "        <tr>\n",
       "            <td>2400712</td>\n",
       "            <td>The Passion of the Christ</td>\n",
       "            <td>340782930.0</td>\n",
       "        </tr>\n",
       "        <tr>\n",
       "            <td>2006991</td>\n",
       "            <td>Jurassic Park</td>\n",
       "            <td>338820792.0</td>\n",
       "        </tr>\n",
       "        <tr>\n",
       "            <td>2172509</td>\n",
       "            <td>Olympus Has Fallen</td>\n",
       "            <td>330824682.0</td>\n",
       "        </tr>\n",
       "        <tr>\n",
       "            <td>2379293</td>\n",
       "            <td>The Hunger Games</td>\n",
       "            <td>330010692.0</td>\n",
       "        </tr>\n",
       "    </tbody>\n",
       "</table>"
      ],
      "text/plain": [
       "+----------+----------------------------+-------------+\n",
       "| movie_id |           title            |    profit   |\n",
       "+----------+----------------------------+-------------+\n",
       "| 1704289  |           Avatar           | 523507625.0 |\n",
       "| 2438179  |          Titanic           | 458672302.0 |\n",
       "| 2310522  |         Star Wars          | 449935665.0 |\n",
       "| 1851357  | E.T. the Extra-Terrestrial | 424610554.0 |\n",
       "| 2346436  |        The Avengers        | 403357910.0 |\n",
       "| 2360583  |      The Dark Knight       | 349858444.0 |\n",
       "| 2400712  | The Passion of the Christ  | 340782930.0 |\n",
       "| 2006991  |       Jurassic Park        | 338820792.0 |\n",
       "| 2172509  |     Olympus Has Fallen     | 330824682.0 |\n",
       "| 2379293  |      The Hunger Games      | 330010692.0 |\n",
       "+----------+----------------------------+-------------+"
      ]
     },
     "execution_count": 535,
     "metadata": {},
     "output_type": "execute_result"
    }
   ],
   "source": [
    "# Do not delete/edit this cell!\n",
    "# You must run this cell before running the autograder.\n",
    "query_3c = %sqlcmd snippets query_3c\n",
    "grading_util.save_results(\"result_3c\", query_3c, result_3c)\n",
    "result_3c"
   ]
  },
  {
   "cell_type": "code",
   "execution_count": 536,
   "metadata": {
    "deletable": false,
    "editable": false
   },
   "outputs": [
    {
     "data": {
      "text/html": [
       "<p><strong><pre style='display: inline;'>q3c</pre></strong> passed! 🙌</p>"
      ],
      "text/plain": [
       "q3c results: All test cases passed!"
      ]
     },
     "execution_count": 536,
     "metadata": {},
     "output_type": "execute_result"
    }
   ],
   "source": [
    "grader.check(\"q3c\")"
   ]
  },
  {
   "cell_type": "markdown",
   "metadata": {
    "deletable": false,
    "editable": false
   },
   "source": [
    "<!-- BEGIN QUESTION -->\n",
    "\n",
    "<br><br>\n",
    "\n",
    "---\n",
    "\n",
    "## Question 3d\n",
    "\n",
    "We analyzed the data, but something seems odd. Upon closer look, there are many negative values for `profit`. For example, the movie `102 Dalmatians` looks to have lost around $18M, but it was a widely successful film! What may account for this issue? Think about how we constrained our data from the start of the problem."
   ]
  },
  {
   "cell_type": "markdown",
   "metadata": {},
   "source": [
    "The manner we limited our dataset is probably the reason for the existence of negative profit numbers, such as \"102 Dalmatians\" seeming to lose $18M while being a blockbuster movie. The fact that we only considered domestic (USA) gross earnings—not foreign revenue—is a huge problem that might have a big influence on overall profitability. Furthermore, when we just chose the largest value, the way profits are recorded in the dataset—possibly as incremental amounts across many periods—may have resulted in inaccurate or incomplete revenue statistics. Another reason might be inconsistent reporting of budget data; some budgets may contain expenditures for marketing and distribution, which would make them seem greater than the real costs of production. Furthermore, our dataset only includes box office receipts; many movies make significant revenues from DVD sales, streaming, licensing, and merchandising, all of which are not included in our estimates. We should think about include both domestic and foreign profits, making sure that revenue numbers are cumulative, and confirming that budgetary figures accurately represent production costs without any extra expenses in order to increase accuracy."
   ]
  },
  {
   "cell_type": "markdown",
   "metadata": {
    "deletable": false,
    "editable": false
   },
   "source": [
    "<!-- END QUESTION -->\n",
    "\n",
    "<br/><br/><br/>\n",
    "\n",
    "<hr style=\"border: 1px solid #fdb515;\" />\n",
    "\n",
    "# Question 4: Using Cleaned Data\n",
    "\n",
    "Now that we have cleaned our monetary records from the `info` attribute in `movie_info_sample`, let's take a closer look at the data we generated. "
   ]
  },
  {
   "cell_type": "markdown",
   "metadata": {
    "deletable": false,
    "editable": false
   },
   "source": [
    "<br><br>\n",
    "\n",
    "---\n",
    "\n",
    "## Question 4a: Analyzing Gross Earnings\n",
    "\n",
    "A common way to view numerical data is with a boxplot. A boxplot shows a spread of the data along with several other key attributes that allow for further data analysis. "
   ]
  },
  {
   "cell_type": "markdown",
   "metadata": {
    "deletable": false,
    "editable": false
   },
   "source": [
    "We went through a lot of work transforming the gross earnings from strings in the`info` attribute into a numerical value. Because of our hard work, we can now further examine this data and understand its distribution. To do this, we first need to generate a [five-number summary](https://en.wikipedia.org/wiki/Five-number_summary) **and** find the average of the US gross earnings data.\n",
    "\n",
    "- Create a view named `earnings_summary`, which consists of a one row summary of the `movie_gross` `gross` data with the `min`, `25th_percentile`, `median`, `75th_percentile`, `max`, and `average`. \n",
    "- Following the view definition, write a `SELECT` query to display it. Your query result should look like this:\n",
    "\n",
    "| min | 25th_percentile | median | 75th_percentile | max | average |\n",
    "| --- | --- | --- | --- | --- | --- |\n",
    "| SOME_FLOAT_HERE | SOME_FLOAT_HERE | SOME_FLOAT_HERE | SOME_FLOAT_HERE | SOME_FLOAT_HERE | SOME_FLOAT_HERE |\n",
    "\n",
    "**Hint:** Look at SQL [aggregate functions](https://www.postgresql.org/docs/9.4/functions-aggregate.html). You may find some useful. Also, to ensure your answer matches the autograder, **please use `percentile_cont` instead of `percentile_dis`.**"
   ]
  },
  {
   "cell_type": "code",
   "execution_count": 537,
   "metadata": {
    "tags": []
   },
   "outputs": [
    {
     "data": {
      "text/html": [
       "<span style=\"None\">Running query in &#x27;postgresql://jovyan@127.0.0.1:5432/imdb&#x27;</span>"
      ],
      "text/plain": [
       "Running query in 'postgresql://jovyan@127.0.0.1:5432/imdb'"
      ]
     },
     "metadata": {},
     "output_type": "display_data"
    },
    {
     "data": {
      "text/html": [
       "<span style=\"color: green\">1 rows affected.</span>"
      ],
      "text/plain": [
       "1 rows affected."
      ]
     },
     "metadata": {},
     "output_type": "display_data"
    }
   ],
   "source": [
    "%%sql --save query_4a result_4a <<\n",
    "\n",
    "DROP VIEW IF EXISTS earnings_summary;\n",
    "CREATE VIEW earnings_summary AS\n",
    "SELECT \n",
    "    MIN(gross) as min,\n",
    "    PERCENTILE_CONT(0.25) WITHIN GROUP (ORDER BY gross) as \"25th_percentile\",\n",
    "    PERCENTILE_CONT(0.5) WITHIN GROUP (ORDER BY gross) as median,\n",
    "    PERCENTILE_CONT(0.75) WITHIN GROUP (ORDER BY gross) as \"75th_percentile\",\n",
    "    MAX(gross) as max,\n",
    "    AVG(gross) as average\n",
    "FROM movie_gross;\n",
    "SELECT * FROM earnings_summary;"
   ]
  },
  {
   "cell_type": "code",
   "execution_count": 538,
   "metadata": {
    "tags": []
   },
   "outputs": [
    {
     "data": {
      "text/html": [
       "<table>\n",
       "    <thead>\n",
       "        <tr>\n",
       "            <th>min</th>\n",
       "            <th>25th_percentile</th>\n",
       "            <th>median</th>\n",
       "            <th>75th_percentile</th>\n",
       "            <th>max</th>\n",
       "            <th>average</th>\n",
       "        </tr>\n",
       "    </thead>\n",
       "    <tbody>\n",
       "        <tr>\n",
       "            <td>30.0</td>\n",
       "            <td>166623.0</td>\n",
       "            <td>2317091.0</td>\n",
       "            <td>20002717.5</td>\n",
       "            <td>760507625.0</td>\n",
       "            <td>19594423.26225384</td>\n",
       "        </tr>\n",
       "    </tbody>\n",
       "</table>"
      ],
      "text/plain": [
       "+------+-----------------+-----------+-----------------+-------------+-------------------+\n",
       "| min  | 25th_percentile |   median  | 75th_percentile |     max     |      average      |\n",
       "+------+-----------------+-----------+-----------------+-------------+-------------------+\n",
       "| 30.0 |     166623.0    | 2317091.0 |    20002717.5   | 760507625.0 | 19594423.26225384 |\n",
       "+------+-----------------+-----------+-----------------+-------------+-------------------+"
      ]
     },
     "execution_count": 538,
     "metadata": {},
     "output_type": "execute_result"
    }
   ],
   "source": [
    "# Do not delete/edit this cell!\n",
    "# You must run this cell before running the autograder.\n",
    "query_4a = %sqlcmd snippets query_4a\n",
    "grading_util.save_results(\"result_4a\", query_4a, result_4a)\n",
    "result_4a"
   ]
  },
  {
   "cell_type": "code",
   "execution_count": 539,
   "metadata": {
    "deletable": false,
    "editable": false
   },
   "outputs": [
    {
     "data": {
      "text/html": [
       "<p><strong><pre style='display: inline;'>q4a</pre></strong> passed! 🌈</p>"
      ],
      "text/plain": [
       "q4a results: All test cases passed!"
      ]
     },
     "execution_count": 539,
     "metadata": {},
     "output_type": "execute_result"
    }
   ],
   "source": [
    "grader.check(\"q4a\")"
   ]
  },
  {
   "cell_type": "markdown",
   "metadata": {
    "deletable": false,
    "editable": false
   },
   "source": [
    "<!-- BEGIN QUESTION -->\n",
    "\n",
    "<br><br>\n",
    "\n",
    "---\n",
    "\n",
    "## Question 4b\n",
    "What do you notice about the summary values generated in `earnings_summary`? We can represent the five-number summary graphically using a [box plot](https://en.wikipedia.org/wiki/Box_plot). Identify two properties about the boxplot of the data. (You do not need to explicitly create a boxplot, but think about how the summary statistics would be distributed in a boxplot.)\n",
    "\n",
    "**Hint:** Think in terms of about concepts from statistics like spread, modality, skew, etc. and how they may apply here."
   ]
  },
  {
   "cell_type": "markdown",
   "metadata": {},
   "source": [
    "There is significant variation in movie earnings, as seen by the summary numbers in earnings_summary, which display a right-skewed distribution. The median (2,317,091.0) is located closer to the 25th percentile (148,788.0) than the 75th percentile (19,488,607.0), suggesting that while certain blockbusters make a lot of money, most films make very little. The existence of high-grossing outliers is confirmed by the highest earnings (760,507,625.0), which are much greater than the median. With certain movies receiving no money at all, the wide interquartile range (IQR) of 19,339,819.0 indicates significant diversity in profits. The impact of a few very popular movies is further reinforced by the average wages (19,294,522.28), which are significantly greater than the median. Plotting as a boxplot would show outliers for popular movies, a median nearer the lower quartile, and a lengthy right whisker. The lopsided revenue distribution in the film business, where a few films dominate overall revenues, is highlighted by this trend.\n",
    "\n",
    "\n"
   ]
  },
  {
   "cell_type": "code",
   "execution_count": 540,
   "metadata": {
    "tags": []
   },
   "outputs": [],
   "source": [
    "# optional: include your plotting code here"
   ]
  },
  {
   "cell_type": "markdown",
   "metadata": {
    "deletable": false,
    "editable": false
   },
   "source": [
    "<!-- END QUESTION -->\n",
    "\n",
    "<br/><br/><br/>\n",
    "\n",
    "<hr style=\"border: 1px solid #fdb515;\" />\n",
    "\n",
    "# Question 5: Joins\n",
    "\n",
    "Joins are a powerful tool in database cleaning and analysis. They allow for the user to create useful tables and bring together information in a meaningful way. \n",
    "\n",
    "There are many types of joins: inner, outer, left, right, etc. Let's practice these in a special scenario. \n",
    "\n",
    "You are now working as a talent director and you need a list of all people who have been in the role `actor` (**NOT** `actress`) and the number of **roles** they have acted. Of note, the original IMDB data maintains an antiquated gender binary in their encoding of roles that is not necessarily reflective of individuals' true genders.\n",
    "\n",
    "- Create a view called `number_roles`, which has columns `id`, `name`, `number` where `id` is the actor's id, `name` is the actor's name, and `number` is the number of roles they have acted.\n",
    "- Following your view, write a ``SELECT`` query to display the **top 10 actors** with the highest number of roles. (Again, do not include actresses.) Your column header should look like this:\n",
    "\n",
    "| id | name | number |\n",
    "| -- | ---- | ------ |\n",
    "\n",
    "**Notes:**\n",
    "\n",
    "- We recommend first exploring the `role_type` table in the terminal. Which `id` in the `role_type` corresponds to an actor?\n",
    "- Ignore the `gender` column in `actor_sample`. Instead, use the role id to determine if a person is an actor or actress.\n",
    "- The `cast_sample` may include actors not included in `actor_sample` table. We still want to include these actors in our result by reference to their `id`.\n",
    "- The `name` field can be `NULL`."
   ]
  },
  {
   "cell_type": "code",
   "execution_count": null,
   "metadata": {},
   "outputs": [],
   "source": []
  },
  {
   "cell_type": "code",
   "execution_count": 541,
   "metadata": {
    "tags": []
   },
   "outputs": [
    {
     "data": {
      "text/html": [
       "<span style=\"None\">Running query in &#x27;postgresql://jovyan@127.0.0.1:5432/imdb&#x27;</span>"
      ],
      "text/plain": [
       "Running query in 'postgresql://jovyan@127.0.0.1:5432/imdb'"
      ]
     },
     "metadata": {},
     "output_type": "display_data"
    },
    {
     "data": {
      "text/html": [
       "<span style=\"color: green\">10 rows affected.</span>"
      ],
      "text/plain": [
       "10 rows affected."
      ]
     },
     "metadata": {},
     "output_type": "display_data"
    }
   ],
   "source": [
    "%%sql --save query_5 result_5 <<\n",
    "\n",
    "DROP VIEW IF EXISTS number_roles;\n",
    "CREATE VIEW number_roles AS \n",
    "SELECT \n",
    "    c.person_id AS id, \n",
    "    a.name AS name,\n",
    "    COUNT(*) AS number\n",
    "FROM cast_sample c\n",
    "JOIN role_type r ON c.role_id = r.id\n",
    "LEFT JOIN actor_sample a ON c.person_id = a.id\n",
    "WHERE r.role = 'actor'  \n",
    "GROUP BY c.person_id, a.name\n",
    "ORDER BY number DESC\n",
    "LIMIT 10;\n",
    "\n",
    "SELECT * FROM number_roles;"
   ]
  },
  {
   "cell_type": "code",
   "execution_count": 542,
   "metadata": {
    "tags": []
   },
   "outputs": [
    {
     "data": {
      "text/html": [
       "<table>\n",
       "    <thead>\n",
       "        <tr>\n",
       "            <th>id</th>\n",
       "            <th>name</th>\n",
       "            <th>number</th>\n",
       "        </tr>\n",
       "    </thead>\n",
       "    <tbody>\n",
       "        <tr>\n",
       "            <td>95397</td>\n",
       "            <td>Barker, Bob</td>\n",
       "            <td>6853</td>\n",
       "        </tr>\n",
       "        <tr>\n",
       "            <td>515315</td>\n",
       "            <td>Freeman, Morgan</td>\n",
       "            <td>5938</td>\n",
       "        </tr>\n",
       "        <tr>\n",
       "            <td>677696</td>\n",
       "            <td>Hinnant, Skip</td>\n",
       "            <td>4697</td>\n",
       "        </tr>\n",
       "        <tr>\n",
       "            <td>1573853</td>\n",
       "            <td>Trebek, Alex</td>\n",
       "            <td>4690</td>\n",
       "        </tr>\n",
       "        <tr>\n",
       "            <td>1362169</td>\n",
       "            <td>Sajak, Pat</td>\n",
       "            <td>3937</td>\n",
       "        </tr>\n",
       "        <tr>\n",
       "            <td>1417394</td>\n",
       "            <td>Shaffer, Paul</td>\n",
       "            <td>3546</td>\n",
       "        </tr>\n",
       "        <tr>\n",
       "            <td>911160</td>\n",
       "            <td>Lima, Pedro</td>\n",
       "            <td>2911</td>\n",
       "        </tr>\n",
       "        <tr>\n",
       "            <td>900749</td>\n",
       "            <td>Letterman, David</td>\n",
       "            <td>2895</td>\n",
       "        </tr>\n",
       "        <tr>\n",
       "            <td>487253</td>\n",
       "            <td>Filipe, Guilherme</td>\n",
       "            <td>2861</td>\n",
       "        </tr>\n",
       "        <tr>\n",
       "            <td>356575</td>\n",
       "            <td>Davidson, Doug</td>\n",
       "            <td>2760</td>\n",
       "        </tr>\n",
       "    </tbody>\n",
       "</table>"
      ],
      "text/plain": [
       "+---------+-------------------+--------+\n",
       "|    id   |        name       | number |\n",
       "+---------+-------------------+--------+\n",
       "|  95397  |    Barker, Bob    |  6853  |\n",
       "|  515315 |  Freeman, Morgan  |  5938  |\n",
       "|  677696 |   Hinnant, Skip   |  4697  |\n",
       "| 1573853 |    Trebek, Alex   |  4690  |\n",
       "| 1362169 |     Sajak, Pat    |  3937  |\n",
       "| 1417394 |   Shaffer, Paul   |  3546  |\n",
       "|  911160 |    Lima, Pedro    |  2911  |\n",
       "|  900749 |  Letterman, David |  2895  |\n",
       "|  487253 | Filipe, Guilherme |  2861  |\n",
       "|  356575 |   Davidson, Doug  |  2760  |\n",
       "+---------+-------------------+--------+"
      ]
     },
     "execution_count": 542,
     "metadata": {},
     "output_type": "execute_result"
    }
   ],
   "source": [
    "# Do not delete/edit this cell!\n",
    "# You must run this cell before running the autograder.\n",
    "query_5 = %sqlcmd snippets query_5\n",
    "grading_util.save_results(\"result_5\", query_5, result_5)\n",
    "result_5"
   ]
  },
  {
   "cell_type": "code",
   "execution_count": 543,
   "metadata": {
    "deletable": false,
    "editable": false
   },
   "outputs": [
    {
     "data": {
      "text/html": [
       "<p><strong><pre style='display: inline;'>q5</pre></strong> passed! 🍀</p>"
      ],
      "text/plain": [
       "q5 results: All test cases passed!"
      ]
     },
     "execution_count": 543,
     "metadata": {},
     "output_type": "execute_result"
    }
   ],
   "source": [
    "grader.check(\"q5\")"
   ]
  },
  {
   "cell_type": "markdown",
   "metadata": {},
   "source": [
    "<hr style=\"border: 5px solid #003262;\" />\n",
    "<hr style=\"border: 1px solid #fdb515;\" />"
   ]
  },
  {
   "cell_type": "markdown",
   "metadata": {},
   "source": [
    "# Congratulations! You have finished Project 1."
   ]
  },
  {
   "cell_type": "markdown",
   "metadata": {},
   "source": [
    "Run the following cell to zip and download the results of your queries. You will also need to run the export cell at the end of the notebook.\n",
    "\n",
    "**Please save your notebook before exporting (this is a good time to do it!)** Otherwise, we may not be able to register your written responses.\n",
    "\n",
    "**For your submission on Gradescope, you will need to submit the `proj1.zip` file generated by the export cell.** Please ensure that your submission includes `proj1.pdf`, `proj1.ipynb`, and `results.zip`. \n",
    "\n",
    "**Please ensure that public tests pass upon submission.** It is your responsibility to wait until the autograder finishes running. We will not be accepting regrade requests for submission issues.\n",
    "\n",
    "**Common submission issues:** You MUST submit the generated zip file to the autograder. However, Safari is known to automatically unzip files upon downloading. You can fix this by going into Safari preferences, and deselect the box with the text \"Open safe files after downloading\" under the \"General\" tab. If you experience issues with downloading via clicking on the link, you can also navigate to the project 1 directory within JupyterHub (remove `proj1.ipynb` from the url), and manually download the generated zip files. Please post on Ed if you encounter any other submission issues.\n",
    "\n",
    "Run the following cell to zip and download the results of your queries. You will also need to run the export cell at the end of the notebook."
   ]
  },
  {
   "cell_type": "code",
   "execution_count": 544,
   "metadata": {
    "scrolled": true
   },
   "outputs": [],
   "source": [
    "grading_util.prepare_submission_and_cleanup()"
   ]
  },
  {
   "cell_type": "markdown",
   "metadata": {
    "deletable": false,
    "editable": false
   },
   "source": [
    "---\n",
    "\n",
    "To double-check your work, the cell below will rerun all of the autograder tests."
   ]
  },
  {
   "cell_type": "code",
   "execution_count": 545,
   "metadata": {
    "deletable": false,
    "editable": false
   },
   "outputs": [
    {
     "data": {
      "text/plain": [
       "q0 results: All test cases passed!\n",
       "\n",
       "q1a results: All test cases passed!\n",
       "\n",
       "q1b results: All test cases passed!\n",
       "\n",
       "q1c results: All test cases passed!\n",
       "\n",
       "q1d results: All test cases passed!\n",
       "\n",
       "q2a results: All test cases passed!\n",
       "\n",
       "q2b results: All test cases passed!\n",
       "\n",
       "q2c results: All test cases passed!\n",
       "\n",
       "q3a results: All test cases passed!\n",
       "\n",
       "q3b results: All test cases passed!\n",
       "\n",
       "q3c results: All test cases passed!\n",
       "\n",
       "q4a results: All test cases passed!\n",
       "\n",
       "q5 results: All test cases passed!"
      ]
     },
     "execution_count": 545,
     "metadata": {},
     "output_type": "execute_result"
    }
   ],
   "source": [
    "grader.check_all()"
   ]
  },
  {
   "cell_type": "markdown",
   "metadata": {
    "deletable": false,
    "editable": false
   },
   "source": [
    "## Submission\n",
    "\n",
    "Make sure you have run all cells in your notebook in order before running the cell below, so that all images/graphs appear in the output. The cell below will generate a zip file for you to submit. **Please save before exporting!**"
   ]
  },
  {
   "cell_type": "code",
   "execution_count": 547,
   "metadata": {
    "deletable": false,
    "editable": false
   },
   "outputs": [
    {
     "data": {
      "text/html": [
       "\n",
       "                    <p>\n",
       "                        Your submission has been exported. Click\n",
       "                        <a href=\"proj1_2025_02_22T22_47_43_871789.zip\" download=\"proj1_2025_02_22T22_47_43_871789.zip\" target=\"_blank\">here</a> to download\n",
       "                        the zip file.\n",
       "                    </p>\n",
       "                "
      ],
      "text/plain": [
       "<IPython.core.display.HTML object>"
      ]
     },
     "metadata": {},
     "output_type": "display_data"
    }
   ],
   "source": [
    "# Save your notebook first, then run this cell to export your submission.\n",
    "grader.export(files=['results.zip'])"
   ]
  },
  {
   "cell_type": "code",
   "execution_count": null,
   "metadata": {},
   "outputs": [],
   "source": []
  }
 ],
 "metadata": {
  "kernelspec": {
   "display_name": "Python 3 (ipykernel)",
   "language": "python",
   "name": "python3"
  },
  "language_info": {
   "codemirror_mode": {
    "name": "ipython",
    "version": 3
   },
   "file_extension": ".py",
   "mimetype": "text/x-python",
   "name": "python",
   "nbconvert_exporter": "python",
   "pygments_lexer": "ipython3",
   "version": "3.11.11"
  },
  "otter": {
   "OK_FORMAT": true,
   "tests": {
    "q0": {
     "name": "q0",
     "points": 1,
     "suites": [
      {
       "cases": [
        {
         "code": ">>> query_0, result_0_df = grading_util.load_results('result_0')\n>>> result_0_df.shape\n(6, 12)",
         "hidden": false,
         "locked": false
        },
        {
         "code": ">>> query_0, result_0_df = grading_util.load_results('result_0')\n>>> result_0_df['table_schema'][0]\n'public'",
         "hidden": false,
         "locked": false
        }
       ],
       "scored": true,
       "setup": "",
       "teardown": "",
       "type": "doctest"
      }
     ]
    },
    "q1a": {
     "name": "q1a",
     "points": 1,
     "suites": [
      {
       "cases": [
        {
         "code": ">>> len(result_1a)\n4",
         "hidden": false,
         "locked": false
        },
        {
         "code": ">>> 'movie_id' in result_1a\nTrue",
         "hidden": false,
         "locked": false
        }
       ],
       "scored": true,
       "setup": "",
       "teardown": "",
       "type": "doctest"
      }
     ]
    },
    "q1b": {
     "name": "q1b",
     "points": 2,
     "suites": [
      {
       "cases": [
        {
         "code": ">>> query_1b, result_1b_df = grading_util.load_results('result_1b')\n>>> result_1b_df.shape\n(1, 1)",
         "hidden": false,
         "locked": false
        },
        {
         "code": ">>> query_1b, result_1b_df = grading_util.load_results('result_1b')\n>>> 2400000 <= result_1b_df.iloc[0, 0] <= 2450000\nTrue",
         "hidden": false,
         "locked": false
        }
       ],
       "scored": true,
       "setup": "",
       "teardown": "",
       "type": "doctest"
      }
     ]
    },
    "q1c": {
     "name": "q1c",
     "points": 1,
     "suites": [
      {
       "cases": [
        {
         "code": ">>> query_1b, result_1b_df = grading_util.load_results('result_1b')\n>>> 0.0001 <= p_1c <= 0.001\nTrue",
         "hidden": false,
         "locked": false
        },
        {
         "code": ">>> query_1c, result_1c_df = grading_util.load_results('result_1c')\n>>> 'BERNOULLI' in query_1c_str.upper()\nTrue",
         "hidden": false,
         "locked": false
        }
       ],
       "scored": true,
       "setup": "",
       "teardown": "",
       "type": "doctest"
      }
     ]
    },
    "q1d": {
     "name": "q1d",
     "points": 1,
     "suites": [
      {
       "cases": [
        {
         "code": ">>> query_1d, result_1d_df = grading_util.load_results('result_1d')\n>>> result_1d_df.shape\n(5, 4)",
         "hidden": false,
         "locked": false
        },
        {
         "code": ">>> query_1d, result_1d_df = grading_util.load_results('result_1d')\n>>> list(result_1d_df.columns)\n['id', 'movie_id', 'info_type_id', 'info']",
         "hidden": false,
         "locked": false
        },
        {
         "code": ">>> query_1d, result_1d_df = grading_util.load_results('result_1d')\n>>> 'RANDOM' in query_1d.upper()\nTrue",
         "hidden": false,
         "locked": false
        }
       ],
       "scored": true,
       "setup": "",
       "teardown": "",
       "type": "doctest"
      }
     ]
    },
    "q2a": {
     "name": "q2a",
     "points": 1,
     "suites": [
      {
       "cases": [
        {
         "code": ">>> query_2a, result_2a_df = grading_util.load_results('result_2a')\n>>> result_2a_df.iloc[0, 0]\n97",
         "hidden": false,
         "locked": false
        }
       ],
       "scored": true,
       "setup": "",
       "teardown": "",
       "type": "doctest"
      }
     ]
    },
    "q2b": {
     "name": "q2b",
     "points": 3,
     "suites": [
      {
       "cases": [
        {
         "code": ">>> query_2b, result_2b_df = grading_util.load_results('result_2b')\n>>> result_2b_df.shape\n(1, 2)",
         "hidden": false,
         "locked": false
        },
        {
         "code": ">>> query_2b, result_2b_df = grading_util.load_results('result_2b')\n>>> result_2b_df['info'][0]\n'Rated PG-13 for sexual content, language and some teen partying'",
         "hidden": false,
         "locked": false
        },
        {
         "code": ">>> query_2b, result_2b_df = grading_util.load_results('result_2b')\n>>> result_2b_df['mpaa_rating'][0]\n'PG-13'",
         "hidden": false,
         "locked": false
        }
       ],
       "scored": true,
       "setup": "",
       "teardown": "",
       "type": "doctest"
      }
     ]
    },
    "q2c": {
     "name": "q2c",
     "points": 3,
     "suites": [
      {
       "cases": [
        {
         "code": ">>> query_2c, result_2c_df = grading_util.load_results('result_2c')\n>>> result_2c_df.shape\n(20, 4)",
         "hidden": false,
         "locked": false
        },
        {
         "code": ">>> query_2c, result_2c_df = grading_util.load_results('result_2c')\n>>> list(result_2c_df.columns)\n['movie_id', 'title', 'info', 'mpaa_rating']",
         "hidden": false,
         "locked": false
        },
        {
         "code": ">>> query_2c, result_2c_df = grading_util.load_results('result_2c')\n>>> result_2c_df['movie_id'][0]\n1632926",
         "hidden": false,
         "locked": false
        },
        {
         "code": ">>> query_2c, result_2c_df = grading_util.load_results('result_2c')\n>>> result_2c_df.set_index('movie_id').loc[1632926]['title']\n'$5 a Day'",
         "hidden": false,
         "locked": false
        },
        {
         "code": ">>> query_2c, result_2c_df = grading_util.load_results('result_2c')\n>>> result_2c_df.set_index('movie_id').loc[1632926]['info']\n'Rated PG-13 for sexual content, brief nudity and language'",
         "hidden": false,
         "locked": false
        },
        {
         "code": ">>> query_2c, result_2c_df = grading_util.load_results('result_2c')\n>>> result_2c_df.set_index('movie_id').loc[1632926]['mpaa_rating']\n'PG-13'",
         "hidden": false,
         "locked": false
        },
        {
         "code": ">>> query_2c, result_2c_df = grading_util.load_results('result_2c')\n>>> result_2c_df['movie_id'].iloc[:10].sum()\n16333796",
         "hidden": false,
         "locked": false
        }
       ],
       "scored": true,
       "setup": "",
       "teardown": "",
       "type": "doctest"
      }
     ]
    },
    "q3a": {
     "name": "q3a",
     "points": 2,
     "suites": [
      {
       "cases": [
        {
         "code": ">>> query_3a, result_3a_df = grading_util.load_results('result_3a')\n>>> result_3a_df.shape\n(10, 3)",
         "hidden": false,
         "locked": false
        },
        {
         "code": ">>> query_3a, result_3a_df = grading_util.load_results('result_3a')\n>>> list(result_3a_df.columns)\n['gross', 'movie_id', 'title']",
         "hidden": false,
         "locked": false
        },
        {
         "code": ">>> query_3a, result_3a_df = grading_util.load_results('result_3a')\n>>> result_3a_df['title'].iloc[:10]\n0                                        Avatar\n1                                       Titanic\n2                                  The Avengers\n3                               The Dark Knight\n4                                     Star Wars\n5                         The Dark Knight Rises\n6                                       Shrek 2\n7                    E.T. the Extra-Terrestrial\n8     Star Wars: Episode I - The Phantom Menace\n9    Pirates of the Caribbean: Dead Man's Chest\nName: title, dtype: object",
         "hidden": false,
         "locked": false
        },
        {
         "code": ">>> query_3a, result_3a_df = grading_util.load_results('result_3a')\n>>> result_3a_df['gross'].iloc[:5].sum()\n3038331946.0",
         "hidden": false,
         "locked": false
        },
        {
         "code": ">>> query_3a, result_3a_df = grading_util.load_results('result_3a')\n>>> result_3a_df['gross'][2]\n623357910.0",
         "hidden": false,
         "locked": false
        }
       ],
       "scored": true,
       "setup": "",
       "teardown": "",
       "type": "doctest"
      }
     ]
    },
    "q3b": {
     "name": "q3b",
     "points": 2,
     "suites": [
      {
       "cases": [
        {
         "code": ">>> query_3b, result_3b_df = grading_util.load_results('result_3b')\n>>> result_3b_df.shape\n(10, 3)",
         "hidden": false,
         "locked": false
        },
        {
         "code": ">>> query_3b, result_3b_df = grading_util.load_results('result_3b')\n>>> list(result_3b_df.columns)\n['budget', 'movie_id', 'title']",
         "hidden": false,
         "locked": false
        },
        {
         "code": ">>> query_3b, result_3b_df = grading_util.load_results('result_3b')\n>>> result_3b_df['title'].iloc[:5]\n0    Pirates of the Caribbean: At World's End\n1                                     Tangled\n2                                Spider-Man 3\n3      Harry Potter and the Half-Blood Prince\n4                                 John Carter\nName: title, dtype: object",
         "hidden": false,
         "locked": false
        },
        {
         "code": ">>> query_3b, result_3b_df = grading_util.load_results('result_3b')\n>>> result_3b_df['budget'].iloc[:5].sum()\n1318000000.0",
         "hidden": false,
         "locked": false
        }
       ],
       "scored": true,
       "setup": "",
       "teardown": "",
       "type": "doctest"
      }
     ]
    },
    "q3c": {
     "name": "q3c",
     "points": 2,
     "suites": [
      {
       "cases": [
        {
         "code": ">>> query_3c, result_3c_df = grading_util.load_results('result_3c')\n>>> result_3c_df.shape\n(10, 3)",
         "hidden": false,
         "locked": false
        },
        {
         "code": ">>> query_3c, result_3c_df = grading_util.load_results('result_3c')\n>>> result_3c_df['title'].iloc[:5]\n0                        Avatar\n1                       Titanic\n2                     Star Wars\n3    E.T. the Extra-Terrestrial\n4                  The Avengers\nName: title, dtype: object",
         "hidden": false,
         "locked": false
        },
        {
         "code": ">>> query_3c, result_3c_df = grading_util.load_results('result_3c')\n>>> result_3c_df['profit'].iloc[:5].sum()\n2260084056.0",
         "hidden": false,
         "locked": false
        }
       ],
       "scored": true,
       "setup": "",
       "teardown": "",
       "type": "doctest"
      }
     ]
    },
    "q4a": {
     "name": "q4a",
     "points": 2,
     "suites": [
      {
       "cases": [
        {
         "code": ">>> query_4a, result_4a_df = grading_util.load_results('result_4a')\n>>> result_4a_df.shape\n(1, 6)",
         "hidden": false,
         "locked": false
        },
        {
         "code": ">>> query_4a, result_4a_df = grading_util.load_results('result_4a')\n>>> list(result_4a_df.columns)\n['min', '25th_percentile', 'median', '75th_percentile', 'max', 'average']",
         "hidden": false,
         "locked": false
        },
        {
         "code": ">>> query_4a, result_4a_df = grading_util.load_results('result_4a')\n>>> result_4a_df['median'].loc[0]\n2317091.0",
         "hidden": false,
         "locked": false
        }
       ],
       "scored": true,
       "setup": "",
       "teardown": "",
       "type": "doctest"
      }
     ]
    },
    "q5": {
     "name": "q5",
     "points": 2,
     "suites": [
      {
       "cases": [
        {
         "code": ">>> query_5, result_5_df = grading_util.load_results('result_5')\n>>> result_5_df.shape\n(10, 3)",
         "hidden": false,
         "locked": false
        },
        {
         "code": ">>> query_5, result_5_df = grading_util.load_results('result_5')\n>>> list(result_5_df.columns)\n['id', 'name', 'number']",
         "hidden": false,
         "locked": false
        },
        {
         "code": ">>> query_5, result_5_df = grading_util.load_results('result_5')\n>>> result_5_df['name'].iloc[:5]\n0        Barker, Bob\n1    Freeman, Morgan\n2      Hinnant, Skip\n3       Trebek, Alex\n4         Sajak, Pat\nName: name, dtype: object",
         "hidden": false,
         "locked": false
        },
        {
         "code": ">>> query_5, result_5_df = grading_util.load_results('result_5')\n>>> result_5_df['number'].iloc[:5].sum()\n26115",
         "hidden": false,
         "locked": false
        }
       ],
       "scored": true,
       "setup": "",
       "teardown": "",
       "type": "doctest"
      }
     ]
    }
   }
  }
 },
 "nbformat": 4,
 "nbformat_minor": 4
}
